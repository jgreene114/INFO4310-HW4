{
 "cells": [
  {
   "cell_type": "code",
   "execution_count": 1,
   "id": "initial_id",
   "metadata": {
    "collapsed": true,
    "ExecuteTime": {
     "end_time": "2024-03-20T15:29:43.515662Z",
     "start_time": "2024-03-20T15:29:41.459108Z"
    }
   },
   "outputs": [],
   "source": [
    "import json\n",
    "import pandas as pd\n",
    "from pathlib import Path"
   ]
  },
  {
   "cell_type": "code",
   "outputs": [],
   "source": [
    "# path = \"data/Biketown Raw Data/2017_03.csv\"\n",
    "# df = pd.read_csv(path)"
   ],
   "metadata": {
    "collapsed": false,
    "ExecuteTime": {
     "end_time": "2024-03-19T15:46:15.346125Z",
     "start_time": "2024-03-19T15:46:15.307570Z"
    }
   },
   "id": "271ba73c63aba730",
   "execution_count": 90
  },
  {
   "cell_type": "code",
   "outputs": [
    {
     "name": "stderr",
     "output_type": "stream",
     "text": [
      "/var/folders/_z/q4gsch7n2jn4pky14jnx_2p80000gn/T/ipykernel_27929/4157305944.py:2: DtypeWarning: Columns (12) have mixed types. Specify dtype option on import or set low_memory=False.\n",
      "  dfs = [pd.read_csv(file_path) for file_path in directory.rglob('*')]\n",
      "/var/folders/_z/q4gsch7n2jn4pky14jnx_2p80000gn/T/ipykernel_27929/4157305944.py:2: DtypeWarning: Columns (18) have mixed types. Specify dtype option on import or set low_memory=False.\n",
      "  dfs = [pd.read_csv(file_path) for file_path in directory.rglob('*')]\n",
      "/var/folders/_z/q4gsch7n2jn4pky14jnx_2p80000gn/T/ipykernel_27929/4157305944.py:2: DtypeWarning: Columns (12,18) have mixed types. Specify dtype option on import or set low_memory=False.\n",
      "  dfs = [pd.read_csv(file_path) for file_path in directory.rglob('*')]\n"
     ]
    }
   ],
   "source": [
    "directory = Path(\"data/Biketown Raw Data\")\n",
    "dfs = [pd.read_csv(file_path) for file_path in directory.rglob('*')]\n",
    "\n",
    "column_mapping = {\n",
    "    'Start_Latitude': 'StartLatitude',\n",
    "    'Start_Longitude': 'StartLongitude',\n",
    "    'End_Latitude': 'EndLatitude',\n",
    "    'End_Longitude': 'EndLongitude',\n",
    "    'Distance_Miles_': 'DistanceMiles',\n",
    "    'Distance_Miles': 'DistanceMiles',\n",
    "}\n",
    "\n",
    "for df in dfs:\n",
    "    for col in df.columns:\n",
    "        if col in column_mapping:\n",
    "            df.rename(columns={col: column_mapping[col]}, inplace=True)\n",
    "\n",
    "combined_df = pd.concat(dfs, ignore_index=True)\n",
    "combined_df['BikeName'] = combined_df['BikeName'].str.lower().str.strip()\n",
    "combined_df.dropna(how='all', inplace=True) \n",
    "combined_df.dropna(subset=[\"StartLongitude\", \"StartLatitude\", \"StartHub\"], how='all', inplace=True) \n",
    "combined_df.dropna(subset=[\"EndLongitude\", \"EndLatitude\", \"EndHub\"], how='all', inplace=True) "
   ],
   "metadata": {
    "collapsed": false,
    "ExecuteTime": {
     "end_time": "2024-03-20T16:30:07.384872Z",
     "start_time": "2024-03-20T16:30:03.192866Z"
    }
   },
   "id": "90de0c21fdd41928",
   "execution_count": 38
  },
  {
   "cell_type": "code",
   "outputs": [
    {
     "data": {
      "text/plain": "                              RouteID  PaymentPlan  StartHub  StartDate  \\\nStartLatitude StartLongitude                                              \n45.302011     -121.744480           1            1         0          1   \n45.353495     -122.610558           1            1         0          1   \n45.368242     -122.601095           1            1         0          1   \n45.375657     -122.601801           1            1         0          1   \n45.377272     -122.594606           2            2         0          2   \n...                               ...          ...       ...        ...   \n45.639117     -122.762541           1            1         0          1   \n45.640220     -122.793141           2            2         0          2   \n45.677095     -122.718480           1            1         0          1   \n45.680503     -122.479187           1            1         0          1   \n45.734094     -122.846574           1            1         0          1   \n\n                              StartTime  EndHub  EndLatitude  EndLongitude  \\\nStartLatitude StartLongitude                                                 \n45.302011     -121.744480             1       1            1             1   \n45.353495     -122.610558             1       0            1             1   \n45.368242     -122.601095             1       0            1             1   \n45.375657     -122.601801             1       0            1             1   \n45.377272     -122.594606             2       2            2             2   \n...                                 ...     ...          ...           ...   \n45.639117     -122.762541             1       0            1             1   \n45.640220     -122.793141             2       2            2             2   \n45.677095     -122.718480             1       0            1             1   \n45.680503     -122.479187             1       1            1             1   \n45.734094     -122.846574             1       0            1             1   \n\n                              EndDate  EndTime  TripType  BikeID  BikeName  \\\nStartLatitude StartLongitude                                                 \n45.302011     -121.744480           1        1         0       1         1   \n45.353495     -122.610558           1        1         0       1         1   \n45.368242     -122.601095           1        1         0       1         1   \n45.375657     -122.601801           1        1         0       1         1   \n45.377272     -122.594606           2        2         0       2         2   \n...                               ...      ...       ...     ...       ...   \n45.639117     -122.762541           1        1         0       1         1   \n45.640220     -122.793141           2        2         0       2         2   \n45.677095     -122.718480           1        1         0       1         1   \n45.680503     -122.479187           1        1         0       1         1   \n45.734094     -122.846574           1        1         0       1         1   \n\n                              DistanceMiles  Duration  RentalAccessPath  \\\nStartLatitude StartLongitude                                              \n45.302011     -121.744480                 1         1                 1   \n45.353495     -122.610558                 1         1                 1   \n45.368242     -122.601095                 1         1                 1   \n45.375657     -122.601801                 1         1                 1   \n45.377272     -122.594606                 2         2                 2   \n...                                     ...       ...               ...   \n45.639117     -122.762541                 1         1                 1   \n45.640220     -122.793141                 2         2                 2   \n45.677095     -122.718480                 1         1                 1   \n45.680503     -122.479187                 1         1                 1   \n45.734094     -122.846574                 1         1                 1   \n\n                              MultipleRental  \nStartLatitude StartLongitude                  \n45.302011     -121.744480                  1  \n45.353495     -122.610558                  1  \n45.368242     -122.601095                  1  \n45.375657     -122.601801                  1  \n45.377272     -122.594606                  2  \n...                                      ...  \n45.639117     -122.762541                  1  \n45.640220     -122.793141                  2  \n45.677095     -122.718480                  1  \n45.680503     -122.479187                  1  \n45.734094     -122.846574                  1  \n\n[4354 rows x 17 columns]",
      "text/html": "<div>\n<style scoped>\n    .dataframe tbody tr th:only-of-type {\n        vertical-align: middle;\n    }\n\n    .dataframe tbody tr th {\n        vertical-align: top;\n    }\n\n    .dataframe thead th {\n        text-align: right;\n    }\n</style>\n<table border=\"1\" class=\"dataframe\">\n  <thead>\n    <tr style=\"text-align: right;\">\n      <th></th>\n      <th></th>\n      <th>RouteID</th>\n      <th>PaymentPlan</th>\n      <th>StartHub</th>\n      <th>StartDate</th>\n      <th>StartTime</th>\n      <th>EndHub</th>\n      <th>EndLatitude</th>\n      <th>EndLongitude</th>\n      <th>EndDate</th>\n      <th>EndTime</th>\n      <th>TripType</th>\n      <th>BikeID</th>\n      <th>BikeName</th>\n      <th>DistanceMiles</th>\n      <th>Duration</th>\n      <th>RentalAccessPath</th>\n      <th>MultipleRental</th>\n    </tr>\n    <tr>\n      <th>StartLatitude</th>\n      <th>StartLongitude</th>\n      <th></th>\n      <th></th>\n      <th></th>\n      <th></th>\n      <th></th>\n      <th></th>\n      <th></th>\n      <th></th>\n      <th></th>\n      <th></th>\n      <th></th>\n      <th></th>\n      <th></th>\n      <th></th>\n      <th></th>\n      <th></th>\n      <th></th>\n    </tr>\n  </thead>\n  <tbody>\n    <tr>\n      <th>45.302011</th>\n      <th>-121.744480</th>\n      <td>1</td>\n      <td>1</td>\n      <td>0</td>\n      <td>1</td>\n      <td>1</td>\n      <td>1</td>\n      <td>1</td>\n      <td>1</td>\n      <td>1</td>\n      <td>1</td>\n      <td>0</td>\n      <td>1</td>\n      <td>1</td>\n      <td>1</td>\n      <td>1</td>\n      <td>1</td>\n      <td>1</td>\n    </tr>\n    <tr>\n      <th>45.353495</th>\n      <th>-122.610558</th>\n      <td>1</td>\n      <td>1</td>\n      <td>0</td>\n      <td>1</td>\n      <td>1</td>\n      <td>0</td>\n      <td>1</td>\n      <td>1</td>\n      <td>1</td>\n      <td>1</td>\n      <td>0</td>\n      <td>1</td>\n      <td>1</td>\n      <td>1</td>\n      <td>1</td>\n      <td>1</td>\n      <td>1</td>\n    </tr>\n    <tr>\n      <th>45.368242</th>\n      <th>-122.601095</th>\n      <td>1</td>\n      <td>1</td>\n      <td>0</td>\n      <td>1</td>\n      <td>1</td>\n      <td>0</td>\n      <td>1</td>\n      <td>1</td>\n      <td>1</td>\n      <td>1</td>\n      <td>0</td>\n      <td>1</td>\n      <td>1</td>\n      <td>1</td>\n      <td>1</td>\n      <td>1</td>\n      <td>1</td>\n    </tr>\n    <tr>\n      <th>45.375657</th>\n      <th>-122.601801</th>\n      <td>1</td>\n      <td>1</td>\n      <td>0</td>\n      <td>1</td>\n      <td>1</td>\n      <td>0</td>\n      <td>1</td>\n      <td>1</td>\n      <td>1</td>\n      <td>1</td>\n      <td>0</td>\n      <td>1</td>\n      <td>1</td>\n      <td>1</td>\n      <td>1</td>\n      <td>1</td>\n      <td>1</td>\n    </tr>\n    <tr>\n      <th>45.377272</th>\n      <th>-122.594606</th>\n      <td>2</td>\n      <td>2</td>\n      <td>0</td>\n      <td>2</td>\n      <td>2</td>\n      <td>2</td>\n      <td>2</td>\n      <td>2</td>\n      <td>2</td>\n      <td>2</td>\n      <td>0</td>\n      <td>2</td>\n      <td>2</td>\n      <td>2</td>\n      <td>2</td>\n      <td>2</td>\n      <td>2</td>\n    </tr>\n    <tr>\n      <th>...</th>\n      <th>...</th>\n      <td>...</td>\n      <td>...</td>\n      <td>...</td>\n      <td>...</td>\n      <td>...</td>\n      <td>...</td>\n      <td>...</td>\n      <td>...</td>\n      <td>...</td>\n      <td>...</td>\n      <td>...</td>\n      <td>...</td>\n      <td>...</td>\n      <td>...</td>\n      <td>...</td>\n      <td>...</td>\n      <td>...</td>\n    </tr>\n    <tr>\n      <th>45.639117</th>\n      <th>-122.762541</th>\n      <td>1</td>\n      <td>1</td>\n      <td>0</td>\n      <td>1</td>\n      <td>1</td>\n      <td>0</td>\n      <td>1</td>\n      <td>1</td>\n      <td>1</td>\n      <td>1</td>\n      <td>0</td>\n      <td>1</td>\n      <td>1</td>\n      <td>1</td>\n      <td>1</td>\n      <td>1</td>\n      <td>1</td>\n    </tr>\n    <tr>\n      <th>45.640220</th>\n      <th>-122.793141</th>\n      <td>2</td>\n      <td>2</td>\n      <td>0</td>\n      <td>2</td>\n      <td>2</td>\n      <td>2</td>\n      <td>2</td>\n      <td>2</td>\n      <td>2</td>\n      <td>2</td>\n      <td>0</td>\n      <td>2</td>\n      <td>2</td>\n      <td>2</td>\n      <td>2</td>\n      <td>2</td>\n      <td>2</td>\n    </tr>\n    <tr>\n      <th>45.677095</th>\n      <th>-122.718480</th>\n      <td>1</td>\n      <td>1</td>\n      <td>0</td>\n      <td>1</td>\n      <td>1</td>\n      <td>0</td>\n      <td>1</td>\n      <td>1</td>\n      <td>1</td>\n      <td>1</td>\n      <td>0</td>\n      <td>1</td>\n      <td>1</td>\n      <td>1</td>\n      <td>1</td>\n      <td>1</td>\n      <td>1</td>\n    </tr>\n    <tr>\n      <th>45.680503</th>\n      <th>-122.479187</th>\n      <td>1</td>\n      <td>1</td>\n      <td>0</td>\n      <td>1</td>\n      <td>1</td>\n      <td>1</td>\n      <td>1</td>\n      <td>1</td>\n      <td>1</td>\n      <td>1</td>\n      <td>0</td>\n      <td>1</td>\n      <td>1</td>\n      <td>1</td>\n      <td>1</td>\n      <td>1</td>\n      <td>1</td>\n    </tr>\n    <tr>\n      <th>45.734094</th>\n      <th>-122.846574</th>\n      <td>1</td>\n      <td>1</td>\n      <td>0</td>\n      <td>1</td>\n      <td>1</td>\n      <td>0</td>\n      <td>1</td>\n      <td>1</td>\n      <td>1</td>\n      <td>1</td>\n      <td>0</td>\n      <td>1</td>\n      <td>1</td>\n      <td>1</td>\n      <td>1</td>\n      <td>1</td>\n      <td>1</td>\n    </tr>\n  </tbody>\n</table>\n<p>4354 rows × 17 columns</p>\n</div>"
     },
     "execution_count": 44,
     "metadata": {},
     "output_type": "execute_result"
    }
   ],
   "source": [
    "combined_df.groupby(['StartLatitude','StartLongitude']).count()"
   ],
   "metadata": {
    "collapsed": false,
    "ExecuteTime": {
     "end_time": "2024-03-20T16:32:17.039686Z",
     "start_time": "2024-03-20T16:32:16.334197Z"
    }
   },
   "id": "41bef2eb3b584b",
   "execution_count": 44
  },
  {
   "cell_type": "code",
   "outputs": [
    {
     "data": {
      "text/plain": "           RouteID PaymentPlan StartHub  StartLatitude  StartLongitude  \\\n13093    4864512.0  Subscriber      NaN            NaN             NaN   \n15070    4906675.0  Subscriber      NaN            NaN             NaN   \n18321    4961721.0  Subscriber      NaN            NaN             NaN   \n23264    5015063.0  Subscriber      NaN            NaN             NaN   \n64286    2773817.0  Subscriber      NaN            NaN             NaN   \n68471    2797935.0      Casual      NaN            NaN             NaN   \n79674    2907378.0  Subscriber      NaN            NaN             NaN   \n83238    2926741.0      Casual      NaN            NaN             NaN   \n96237    3008130.0  Subscriber      NaN            NaN             NaN   \n112861   5271543.0  Subscriber      NaN            NaN             NaN   \n118140   3449694.0  Subscriber      NaN            NaN             NaN   \n122275   3476175.0      Casual      NaN            NaN             NaN   \n146902   3679316.0      Casual      NaN            NaN             NaN   \n152137   3719492.0      Casual      NaN            NaN             NaN   \n152739   3721616.0  Subscriber      NaN            NaN             NaN   \n152919   3722341.0      Casual      NaN            NaN             NaN   \n218860   3057198.0  Subscriber      NaN            NaN             NaN   \n225688   3114226.0  Subscriber      NaN            NaN             NaN   \n234471   3214507.0  Subscriber      NaN            NaN             NaN   \n249924   3348842.0  Subscriber      NaN            NaN             NaN   \n251799   3365687.0  Subscriber      NaN            NaN             NaN   \n252858   3379955.0  Subscriber      NaN            NaN             NaN   \n253390   3385387.0  Subscriber      NaN            NaN             NaN   \n307139   2419992.0  Subscriber      NaN            NaN             NaN   \n826031   5450210.0  Subscriber      NaN            NaN             NaN   \n828169   5474768.0  Subscriber      NaN            NaN             NaN   \n1235233  4066336.0      Casual      NaN            NaN             NaN   \n1244607  4144518.0  Subscriber      NaN            NaN             NaN   \n1245571  4151059.0  Subscriber      NaN            NaN             NaN   \n1272206  4414709.0  Subscriber      NaN            NaN             NaN   \n1279079  4496743.0  Subscriber      NaN            NaN             NaN   \n\n          StartDate StartTime                              EndHub  \\\n13093    10/16/2017     10:41          SW 11th at Main - Disabled   \n15070    10/19/2017     13:00         SW Yamhill at Director Park   \n18321    10/24/2017     20:25                     SW 12th at Clay   \n23264    10/29/2017     20:00                   NW Glisan at 21st   \n64286      5/3/2017     12:57              SE Elliott at Division   \n68471      5/6/2017     17:38                  NW 23rd at Overton   \n79674     5/19/2017      8:32                 NW 13th at Marshall   \n83238     5/21/2017      7:16                       SW 5th at Oak   \n96237     5/28/2017     19:21                  NW Thurman at 24th   \n112861   11/28/2017     17:55              NW Broadway at Everett   \n118140     7/3/2017      5:54                 SE 34th at Division   \n122275     7/4/2017     21:25                   NW 2nd at Everett   \n146902    7/19/2017     20:37                  SW 5th at Morrison   \n152137    7/22/2017     15:09              N Mississippi at Beech   \n152739    7/22/2017     18:46              N Mississippi at Beech   \n152919    7/22/2017     20:25  NW Marshall at Tanner Springs Park   \n218860     6/1/2017     22:19                 SW Morrison at 18th   \n225688     6/6/2017     17:31                  NW Kearney at 23rd   \n234471    6/14/2017     15:31                  SW 5th at Morrison   \n249924    6/25/2017     14:53                  NE Holladay at MLK   \n251799    6/26/2017     20:18              N Mississippi at Beech   \n252858    6/27/2017     17:53                 SW Morrison at 18th   \n253390    6/28/2017      7:14                 NW Flanders at 14th   \n307139    2/28/2017     18:10            Tilikum West at SW Moody   \n826031     1/2/2018     19:10                  NW 21st at Johnson   \n828169     1/8/2018     20:31                 SW 10th at Columbia   \n1235233   8/16/2017     22:18                    SW 3rd at Ankeny   \n1244607   8/22/2017     12:02                 NW 18th at Northrup   \n1245571   8/22/2017     20:04                 NW 13th at Marshall   \n1272206   9/10/2017     11:36     SW 4th at Jefferson (City Hall)   \n1279079   9/15/2017     23:57                    SW 3rd at Ankeny   \n\n         EndLatitude  EndLongitude     EndDate EndTime TripType  BikeID  \\\n13093      45.517480   -122.684565  12/31/1969   16:30      NaN  7313.0   \n15070      45.518981   -122.681269  10/19/2017   13:01      NaN  7171.0   \n18321      45.515074   -122.687030  10/24/2017   20:33      NaN  6785.0   \n23264      45.526346   -122.694148  10/29/2017   20:05      NaN  6100.0   \n64286      45.505125   -122.653368    5/3/2017   12:58      NaN  7231.0   \n68471      45.532116   -122.698630    5/6/2017   18:05      NaN  6253.0   \n79674      45.530804   -122.684423   5/19/2017    8:41      NaN  6342.0   \n83238      45.521173   -122.676365   5/21/2017    7:31      NaN  7339.0   \n96237      45.535504   -122.700661   5/28/2017   19:28      NaN  7138.0   \n112861     45.525079   -122.677556  11/28/2017   17:52      NaN  6302.0   \n118140     45.504839   -122.629631    1/5/2080   16:00      NaN  7344.0   \n122275     45.525367   -122.672546    7/4/2017   21:40      NaN  6601.0   \n146902     45.518895   -122.677406   7/19/2017   20:39      NaN  6779.0   \n152137     45.549986   -122.675657   7/22/2017   15:14      NaN  7160.0   \n152739     45.549986   -122.675657   7/22/2017   18:49      NaN  7160.0   \n152919     45.530831   -122.681596   7/22/2017   20:29      NaN  7354.0   \n218860     45.521960   -122.689677    6/1/2017   22:21      NaN  6275.0   \n225688     45.529142   -122.698703    6/6/2017   17:34      NaN  6201.0   \n234471     45.518895   -122.677406    1/5/2080   16:00      NaN  6530.0   \n249924     45.529903   -122.662836   6/25/2017   15:11      NaN  7160.0   \n251799     45.549986   -122.675657    1/5/2080   16:00      NaN  6432.0   \n252858     45.521960   -122.689677   6/27/2017   18:01      NaN  7160.0   \n253390     45.525799   -122.685506   6/28/2017    7:19      NaN  6232.0   \n307139     45.502768   -122.671441   2/28/2017   18:15      NaN  7303.0   \n826031     45.528268   -122.694562    1/2/2018   19:07      NaN  6158.0   \n828169     45.515444   -122.684675    1/8/2018   20:33      NaN  6848.0   \n1235233    45.522479   -122.673297   8/16/2017   22:35      NaN  7499.0   \n1244607    45.531425   -122.689566   8/22/2017   12:09      NaN  6052.0   \n1245571    45.530804   -122.684423   8/22/2017   20:06      NaN  6638.0   \n1272206    45.515053   -122.678895   9/10/2017   11:42      NaN  6813.0   \n1279079    45.522479   -122.673297   9/16/2017    0:09      NaN  7165.0   \n\n                        BikeName  DistanceMiles      Duration  \\\n13093           0985 air trainer            0.0           NaN   \n15070              0094 biketown            0.0       0:01:47   \n18321              0074 biketown            0.0       0:07:43   \n23264              0616 biketown            0.0       0:05:34   \n64286              0425 biketown            0.0       0:01:10   \n68471              0753 biketown            0.0       0:26:05   \n79674              0064 biketown            0.0       0:09:11   \n83238            1001 air safari            0.0       0:15:21   \n96237              0245 biketown            0.0       0:06:26   \n112861             0395 biketown            0.0           NaN   \n118140           1027 air safari            0.0  547955:05:27   \n122275             0312 biketown            0.0       0:15:39   \n146902             0218 biketown            0.0       0:01:55   \n152137             0131 biketown            0.0       0:04:51   \n152739             0131 biketown            0.0       0:03:01   \n152919           0998 air safari            0.0       0:03:30   \n218860             0826 biketown            0.0       0:01:42   \n225688             0858 biketown            0.0       0:02:52   \n234471             0039 biketown            0.0  548401:28:36   \n249924             0131 biketown            0.0       0:17:42   \n251799             0660 biketown            0.0  548108:41:18   \n252858             0131 biketown            0.0       0:07:57   \n253390             0870 biketown            0.0       0:05:04   \n307139          0970 air trainer            0.0       0:04:50   \n826031   0911 biketown lightbike            0.0           NaN   \n828169             0548 biketown            0.0       0:02:25   \n1235233            0782 biketown            0.0       0:16:34   \n1244607            0494 biketown            0.0       0:06:57   \n1245571            0334 biketown            0.0       0:01:50   \n1272206            0823 biketown            0.0       0:05:37   \n1279079            0092 biketown            0.0       0:11:42   \n\n         RentalAccessPath MultipleRental  \n13093    keypad_rfid_card          False  \n15070    keypad_rfid_card          False  \n18321              keypad           True  \n23264              keypad          False  \n64286              keypad          False  \n68471              keypad          False  \n79674              keypad           True  \n83238              keypad          False  \n96237              keypad          False  \n112861             keypad          False  \n118140             keypad          False  \n122275             keypad          False  \n146902             keypad          False  \n152137             keypad          False  \n152739             keypad          False  \n152919             keypad          False  \n218860             keypad          False  \n225688             keypad          False  \n234471             keypad          False  \n249924             keypad          False  \n251799             keypad           True  \n252858             keypad          False  \n253390             keypad          False  \n307139             keypad          False  \n826031             keypad          False  \n828169             mobile          False  \n1235233            keypad          False  \n1244607            keypad          False  \n1245571            keypad          False  \n1272206            keypad          False  \n1279079            keypad          False  ",
      "text/html": "<div>\n<style scoped>\n    .dataframe tbody tr th:only-of-type {\n        vertical-align: middle;\n    }\n\n    .dataframe tbody tr th {\n        vertical-align: top;\n    }\n\n    .dataframe thead th {\n        text-align: right;\n    }\n</style>\n<table border=\"1\" class=\"dataframe\">\n  <thead>\n    <tr style=\"text-align: right;\">\n      <th></th>\n      <th>RouteID</th>\n      <th>PaymentPlan</th>\n      <th>StartHub</th>\n      <th>StartLatitude</th>\n      <th>StartLongitude</th>\n      <th>StartDate</th>\n      <th>StartTime</th>\n      <th>EndHub</th>\n      <th>EndLatitude</th>\n      <th>EndLongitude</th>\n      <th>EndDate</th>\n      <th>EndTime</th>\n      <th>TripType</th>\n      <th>BikeID</th>\n      <th>BikeName</th>\n      <th>DistanceMiles</th>\n      <th>Duration</th>\n      <th>RentalAccessPath</th>\n      <th>MultipleRental</th>\n    </tr>\n  </thead>\n  <tbody>\n    <tr>\n      <th>13093</th>\n      <td>4864512.0</td>\n      <td>Subscriber</td>\n      <td>NaN</td>\n      <td>NaN</td>\n      <td>NaN</td>\n      <td>10/16/2017</td>\n      <td>10:41</td>\n      <td>SW 11th at Main - Disabled</td>\n      <td>45.517480</td>\n      <td>-122.684565</td>\n      <td>12/31/1969</td>\n      <td>16:30</td>\n      <td>NaN</td>\n      <td>7313.0</td>\n      <td>0985 air trainer</td>\n      <td>0.0</td>\n      <td>NaN</td>\n      <td>keypad_rfid_card</td>\n      <td>False</td>\n    </tr>\n    <tr>\n      <th>15070</th>\n      <td>4906675.0</td>\n      <td>Subscriber</td>\n      <td>NaN</td>\n      <td>NaN</td>\n      <td>NaN</td>\n      <td>10/19/2017</td>\n      <td>13:00</td>\n      <td>SW Yamhill at Director Park</td>\n      <td>45.518981</td>\n      <td>-122.681269</td>\n      <td>10/19/2017</td>\n      <td>13:01</td>\n      <td>NaN</td>\n      <td>7171.0</td>\n      <td>0094 biketown</td>\n      <td>0.0</td>\n      <td>0:01:47</td>\n      <td>keypad_rfid_card</td>\n      <td>False</td>\n    </tr>\n    <tr>\n      <th>18321</th>\n      <td>4961721.0</td>\n      <td>Subscriber</td>\n      <td>NaN</td>\n      <td>NaN</td>\n      <td>NaN</td>\n      <td>10/24/2017</td>\n      <td>20:25</td>\n      <td>SW 12th at Clay</td>\n      <td>45.515074</td>\n      <td>-122.687030</td>\n      <td>10/24/2017</td>\n      <td>20:33</td>\n      <td>NaN</td>\n      <td>6785.0</td>\n      <td>0074 biketown</td>\n      <td>0.0</td>\n      <td>0:07:43</td>\n      <td>keypad</td>\n      <td>True</td>\n    </tr>\n    <tr>\n      <th>23264</th>\n      <td>5015063.0</td>\n      <td>Subscriber</td>\n      <td>NaN</td>\n      <td>NaN</td>\n      <td>NaN</td>\n      <td>10/29/2017</td>\n      <td>20:00</td>\n      <td>NW Glisan at 21st</td>\n      <td>45.526346</td>\n      <td>-122.694148</td>\n      <td>10/29/2017</td>\n      <td>20:05</td>\n      <td>NaN</td>\n      <td>6100.0</td>\n      <td>0616 biketown</td>\n      <td>0.0</td>\n      <td>0:05:34</td>\n      <td>keypad</td>\n      <td>False</td>\n    </tr>\n    <tr>\n      <th>64286</th>\n      <td>2773817.0</td>\n      <td>Subscriber</td>\n      <td>NaN</td>\n      <td>NaN</td>\n      <td>NaN</td>\n      <td>5/3/2017</td>\n      <td>12:57</td>\n      <td>SE Elliott at Division</td>\n      <td>45.505125</td>\n      <td>-122.653368</td>\n      <td>5/3/2017</td>\n      <td>12:58</td>\n      <td>NaN</td>\n      <td>7231.0</td>\n      <td>0425 biketown</td>\n      <td>0.0</td>\n      <td>0:01:10</td>\n      <td>keypad</td>\n      <td>False</td>\n    </tr>\n    <tr>\n      <th>68471</th>\n      <td>2797935.0</td>\n      <td>Casual</td>\n      <td>NaN</td>\n      <td>NaN</td>\n      <td>NaN</td>\n      <td>5/6/2017</td>\n      <td>17:38</td>\n      <td>NW 23rd at Overton</td>\n      <td>45.532116</td>\n      <td>-122.698630</td>\n      <td>5/6/2017</td>\n      <td>18:05</td>\n      <td>NaN</td>\n      <td>6253.0</td>\n      <td>0753 biketown</td>\n      <td>0.0</td>\n      <td>0:26:05</td>\n      <td>keypad</td>\n      <td>False</td>\n    </tr>\n    <tr>\n      <th>79674</th>\n      <td>2907378.0</td>\n      <td>Subscriber</td>\n      <td>NaN</td>\n      <td>NaN</td>\n      <td>NaN</td>\n      <td>5/19/2017</td>\n      <td>8:32</td>\n      <td>NW 13th at Marshall</td>\n      <td>45.530804</td>\n      <td>-122.684423</td>\n      <td>5/19/2017</td>\n      <td>8:41</td>\n      <td>NaN</td>\n      <td>6342.0</td>\n      <td>0064 biketown</td>\n      <td>0.0</td>\n      <td>0:09:11</td>\n      <td>keypad</td>\n      <td>True</td>\n    </tr>\n    <tr>\n      <th>83238</th>\n      <td>2926741.0</td>\n      <td>Casual</td>\n      <td>NaN</td>\n      <td>NaN</td>\n      <td>NaN</td>\n      <td>5/21/2017</td>\n      <td>7:16</td>\n      <td>SW 5th at Oak</td>\n      <td>45.521173</td>\n      <td>-122.676365</td>\n      <td>5/21/2017</td>\n      <td>7:31</td>\n      <td>NaN</td>\n      <td>7339.0</td>\n      <td>1001 air safari</td>\n      <td>0.0</td>\n      <td>0:15:21</td>\n      <td>keypad</td>\n      <td>False</td>\n    </tr>\n    <tr>\n      <th>96237</th>\n      <td>3008130.0</td>\n      <td>Subscriber</td>\n      <td>NaN</td>\n      <td>NaN</td>\n      <td>NaN</td>\n      <td>5/28/2017</td>\n      <td>19:21</td>\n      <td>NW Thurman at 24th</td>\n      <td>45.535504</td>\n      <td>-122.700661</td>\n      <td>5/28/2017</td>\n      <td>19:28</td>\n      <td>NaN</td>\n      <td>7138.0</td>\n      <td>0245 biketown</td>\n      <td>0.0</td>\n      <td>0:06:26</td>\n      <td>keypad</td>\n      <td>False</td>\n    </tr>\n    <tr>\n      <th>112861</th>\n      <td>5271543.0</td>\n      <td>Subscriber</td>\n      <td>NaN</td>\n      <td>NaN</td>\n      <td>NaN</td>\n      <td>11/28/2017</td>\n      <td>17:55</td>\n      <td>NW Broadway at Everett</td>\n      <td>45.525079</td>\n      <td>-122.677556</td>\n      <td>11/28/2017</td>\n      <td>17:52</td>\n      <td>NaN</td>\n      <td>6302.0</td>\n      <td>0395 biketown</td>\n      <td>0.0</td>\n      <td>NaN</td>\n      <td>keypad</td>\n      <td>False</td>\n    </tr>\n    <tr>\n      <th>118140</th>\n      <td>3449694.0</td>\n      <td>Subscriber</td>\n      <td>NaN</td>\n      <td>NaN</td>\n      <td>NaN</td>\n      <td>7/3/2017</td>\n      <td>5:54</td>\n      <td>SE 34th at Division</td>\n      <td>45.504839</td>\n      <td>-122.629631</td>\n      <td>1/5/2080</td>\n      <td>16:00</td>\n      <td>NaN</td>\n      <td>7344.0</td>\n      <td>1027 air safari</td>\n      <td>0.0</td>\n      <td>547955:05:27</td>\n      <td>keypad</td>\n      <td>False</td>\n    </tr>\n    <tr>\n      <th>122275</th>\n      <td>3476175.0</td>\n      <td>Casual</td>\n      <td>NaN</td>\n      <td>NaN</td>\n      <td>NaN</td>\n      <td>7/4/2017</td>\n      <td>21:25</td>\n      <td>NW 2nd at Everett</td>\n      <td>45.525367</td>\n      <td>-122.672546</td>\n      <td>7/4/2017</td>\n      <td>21:40</td>\n      <td>NaN</td>\n      <td>6601.0</td>\n      <td>0312 biketown</td>\n      <td>0.0</td>\n      <td>0:15:39</td>\n      <td>keypad</td>\n      <td>False</td>\n    </tr>\n    <tr>\n      <th>146902</th>\n      <td>3679316.0</td>\n      <td>Casual</td>\n      <td>NaN</td>\n      <td>NaN</td>\n      <td>NaN</td>\n      <td>7/19/2017</td>\n      <td>20:37</td>\n      <td>SW 5th at Morrison</td>\n      <td>45.518895</td>\n      <td>-122.677406</td>\n      <td>7/19/2017</td>\n      <td>20:39</td>\n      <td>NaN</td>\n      <td>6779.0</td>\n      <td>0218 biketown</td>\n      <td>0.0</td>\n      <td>0:01:55</td>\n      <td>keypad</td>\n      <td>False</td>\n    </tr>\n    <tr>\n      <th>152137</th>\n      <td>3719492.0</td>\n      <td>Casual</td>\n      <td>NaN</td>\n      <td>NaN</td>\n      <td>NaN</td>\n      <td>7/22/2017</td>\n      <td>15:09</td>\n      <td>N Mississippi at Beech</td>\n      <td>45.549986</td>\n      <td>-122.675657</td>\n      <td>7/22/2017</td>\n      <td>15:14</td>\n      <td>NaN</td>\n      <td>7160.0</td>\n      <td>0131 biketown</td>\n      <td>0.0</td>\n      <td>0:04:51</td>\n      <td>keypad</td>\n      <td>False</td>\n    </tr>\n    <tr>\n      <th>152739</th>\n      <td>3721616.0</td>\n      <td>Subscriber</td>\n      <td>NaN</td>\n      <td>NaN</td>\n      <td>NaN</td>\n      <td>7/22/2017</td>\n      <td>18:46</td>\n      <td>N Mississippi at Beech</td>\n      <td>45.549986</td>\n      <td>-122.675657</td>\n      <td>7/22/2017</td>\n      <td>18:49</td>\n      <td>NaN</td>\n      <td>7160.0</td>\n      <td>0131 biketown</td>\n      <td>0.0</td>\n      <td>0:03:01</td>\n      <td>keypad</td>\n      <td>False</td>\n    </tr>\n    <tr>\n      <th>152919</th>\n      <td>3722341.0</td>\n      <td>Casual</td>\n      <td>NaN</td>\n      <td>NaN</td>\n      <td>NaN</td>\n      <td>7/22/2017</td>\n      <td>20:25</td>\n      <td>NW Marshall at Tanner Springs Park</td>\n      <td>45.530831</td>\n      <td>-122.681596</td>\n      <td>7/22/2017</td>\n      <td>20:29</td>\n      <td>NaN</td>\n      <td>7354.0</td>\n      <td>0998 air safari</td>\n      <td>0.0</td>\n      <td>0:03:30</td>\n      <td>keypad</td>\n      <td>False</td>\n    </tr>\n    <tr>\n      <th>218860</th>\n      <td>3057198.0</td>\n      <td>Subscriber</td>\n      <td>NaN</td>\n      <td>NaN</td>\n      <td>NaN</td>\n      <td>6/1/2017</td>\n      <td>22:19</td>\n      <td>SW Morrison at 18th</td>\n      <td>45.521960</td>\n      <td>-122.689677</td>\n      <td>6/1/2017</td>\n      <td>22:21</td>\n      <td>NaN</td>\n      <td>6275.0</td>\n      <td>0826 biketown</td>\n      <td>0.0</td>\n      <td>0:01:42</td>\n      <td>keypad</td>\n      <td>False</td>\n    </tr>\n    <tr>\n      <th>225688</th>\n      <td>3114226.0</td>\n      <td>Subscriber</td>\n      <td>NaN</td>\n      <td>NaN</td>\n      <td>NaN</td>\n      <td>6/6/2017</td>\n      <td>17:31</td>\n      <td>NW Kearney at 23rd</td>\n      <td>45.529142</td>\n      <td>-122.698703</td>\n      <td>6/6/2017</td>\n      <td>17:34</td>\n      <td>NaN</td>\n      <td>6201.0</td>\n      <td>0858 biketown</td>\n      <td>0.0</td>\n      <td>0:02:52</td>\n      <td>keypad</td>\n      <td>False</td>\n    </tr>\n    <tr>\n      <th>234471</th>\n      <td>3214507.0</td>\n      <td>Subscriber</td>\n      <td>NaN</td>\n      <td>NaN</td>\n      <td>NaN</td>\n      <td>6/14/2017</td>\n      <td>15:31</td>\n      <td>SW 5th at Morrison</td>\n      <td>45.518895</td>\n      <td>-122.677406</td>\n      <td>1/5/2080</td>\n      <td>16:00</td>\n      <td>NaN</td>\n      <td>6530.0</td>\n      <td>0039 biketown</td>\n      <td>0.0</td>\n      <td>548401:28:36</td>\n      <td>keypad</td>\n      <td>False</td>\n    </tr>\n    <tr>\n      <th>249924</th>\n      <td>3348842.0</td>\n      <td>Subscriber</td>\n      <td>NaN</td>\n      <td>NaN</td>\n      <td>NaN</td>\n      <td>6/25/2017</td>\n      <td>14:53</td>\n      <td>NE Holladay at MLK</td>\n      <td>45.529903</td>\n      <td>-122.662836</td>\n      <td>6/25/2017</td>\n      <td>15:11</td>\n      <td>NaN</td>\n      <td>7160.0</td>\n      <td>0131 biketown</td>\n      <td>0.0</td>\n      <td>0:17:42</td>\n      <td>keypad</td>\n      <td>False</td>\n    </tr>\n    <tr>\n      <th>251799</th>\n      <td>3365687.0</td>\n      <td>Subscriber</td>\n      <td>NaN</td>\n      <td>NaN</td>\n      <td>NaN</td>\n      <td>6/26/2017</td>\n      <td>20:18</td>\n      <td>N Mississippi at Beech</td>\n      <td>45.549986</td>\n      <td>-122.675657</td>\n      <td>1/5/2080</td>\n      <td>16:00</td>\n      <td>NaN</td>\n      <td>6432.0</td>\n      <td>0660 biketown</td>\n      <td>0.0</td>\n      <td>548108:41:18</td>\n      <td>keypad</td>\n      <td>True</td>\n    </tr>\n    <tr>\n      <th>252858</th>\n      <td>3379955.0</td>\n      <td>Subscriber</td>\n      <td>NaN</td>\n      <td>NaN</td>\n      <td>NaN</td>\n      <td>6/27/2017</td>\n      <td>17:53</td>\n      <td>SW Morrison at 18th</td>\n      <td>45.521960</td>\n      <td>-122.689677</td>\n      <td>6/27/2017</td>\n      <td>18:01</td>\n      <td>NaN</td>\n      <td>7160.0</td>\n      <td>0131 biketown</td>\n      <td>0.0</td>\n      <td>0:07:57</td>\n      <td>keypad</td>\n      <td>False</td>\n    </tr>\n    <tr>\n      <th>253390</th>\n      <td>3385387.0</td>\n      <td>Subscriber</td>\n      <td>NaN</td>\n      <td>NaN</td>\n      <td>NaN</td>\n      <td>6/28/2017</td>\n      <td>7:14</td>\n      <td>NW Flanders at 14th</td>\n      <td>45.525799</td>\n      <td>-122.685506</td>\n      <td>6/28/2017</td>\n      <td>7:19</td>\n      <td>NaN</td>\n      <td>6232.0</td>\n      <td>0870 biketown</td>\n      <td>0.0</td>\n      <td>0:05:04</td>\n      <td>keypad</td>\n      <td>False</td>\n    </tr>\n    <tr>\n      <th>307139</th>\n      <td>2419992.0</td>\n      <td>Subscriber</td>\n      <td>NaN</td>\n      <td>NaN</td>\n      <td>NaN</td>\n      <td>2/28/2017</td>\n      <td>18:10</td>\n      <td>Tilikum West at SW Moody</td>\n      <td>45.502768</td>\n      <td>-122.671441</td>\n      <td>2/28/2017</td>\n      <td>18:15</td>\n      <td>NaN</td>\n      <td>7303.0</td>\n      <td>0970 air trainer</td>\n      <td>0.0</td>\n      <td>0:04:50</td>\n      <td>keypad</td>\n      <td>False</td>\n    </tr>\n    <tr>\n      <th>826031</th>\n      <td>5450210.0</td>\n      <td>Subscriber</td>\n      <td>NaN</td>\n      <td>NaN</td>\n      <td>NaN</td>\n      <td>1/2/2018</td>\n      <td>19:10</td>\n      <td>NW 21st at Johnson</td>\n      <td>45.528268</td>\n      <td>-122.694562</td>\n      <td>1/2/2018</td>\n      <td>19:07</td>\n      <td>NaN</td>\n      <td>6158.0</td>\n      <td>0911 biketown lightbike</td>\n      <td>0.0</td>\n      <td>NaN</td>\n      <td>keypad</td>\n      <td>False</td>\n    </tr>\n    <tr>\n      <th>828169</th>\n      <td>5474768.0</td>\n      <td>Subscriber</td>\n      <td>NaN</td>\n      <td>NaN</td>\n      <td>NaN</td>\n      <td>1/8/2018</td>\n      <td>20:31</td>\n      <td>SW 10th at Columbia</td>\n      <td>45.515444</td>\n      <td>-122.684675</td>\n      <td>1/8/2018</td>\n      <td>20:33</td>\n      <td>NaN</td>\n      <td>6848.0</td>\n      <td>0548 biketown</td>\n      <td>0.0</td>\n      <td>0:02:25</td>\n      <td>mobile</td>\n      <td>False</td>\n    </tr>\n    <tr>\n      <th>1235233</th>\n      <td>4066336.0</td>\n      <td>Casual</td>\n      <td>NaN</td>\n      <td>NaN</td>\n      <td>NaN</td>\n      <td>8/16/2017</td>\n      <td>22:18</td>\n      <td>SW 3rd at Ankeny</td>\n      <td>45.522479</td>\n      <td>-122.673297</td>\n      <td>8/16/2017</td>\n      <td>22:35</td>\n      <td>NaN</td>\n      <td>7499.0</td>\n      <td>0782 biketown</td>\n      <td>0.0</td>\n      <td>0:16:34</td>\n      <td>keypad</td>\n      <td>False</td>\n    </tr>\n    <tr>\n      <th>1244607</th>\n      <td>4144518.0</td>\n      <td>Subscriber</td>\n      <td>NaN</td>\n      <td>NaN</td>\n      <td>NaN</td>\n      <td>8/22/2017</td>\n      <td>12:02</td>\n      <td>NW 18th at Northrup</td>\n      <td>45.531425</td>\n      <td>-122.689566</td>\n      <td>8/22/2017</td>\n      <td>12:09</td>\n      <td>NaN</td>\n      <td>6052.0</td>\n      <td>0494 biketown</td>\n      <td>0.0</td>\n      <td>0:06:57</td>\n      <td>keypad</td>\n      <td>False</td>\n    </tr>\n    <tr>\n      <th>1245571</th>\n      <td>4151059.0</td>\n      <td>Subscriber</td>\n      <td>NaN</td>\n      <td>NaN</td>\n      <td>NaN</td>\n      <td>8/22/2017</td>\n      <td>20:04</td>\n      <td>NW 13th at Marshall</td>\n      <td>45.530804</td>\n      <td>-122.684423</td>\n      <td>8/22/2017</td>\n      <td>20:06</td>\n      <td>NaN</td>\n      <td>6638.0</td>\n      <td>0334 biketown</td>\n      <td>0.0</td>\n      <td>0:01:50</td>\n      <td>keypad</td>\n      <td>False</td>\n    </tr>\n    <tr>\n      <th>1272206</th>\n      <td>4414709.0</td>\n      <td>Subscriber</td>\n      <td>NaN</td>\n      <td>NaN</td>\n      <td>NaN</td>\n      <td>9/10/2017</td>\n      <td>11:36</td>\n      <td>SW 4th at Jefferson (City Hall)</td>\n      <td>45.515053</td>\n      <td>-122.678895</td>\n      <td>9/10/2017</td>\n      <td>11:42</td>\n      <td>NaN</td>\n      <td>6813.0</td>\n      <td>0823 biketown</td>\n      <td>0.0</td>\n      <td>0:05:37</td>\n      <td>keypad</td>\n      <td>False</td>\n    </tr>\n    <tr>\n      <th>1279079</th>\n      <td>4496743.0</td>\n      <td>Subscriber</td>\n      <td>NaN</td>\n      <td>NaN</td>\n      <td>NaN</td>\n      <td>9/15/2017</td>\n      <td>23:57</td>\n      <td>SW 3rd at Ankeny</td>\n      <td>45.522479</td>\n      <td>-122.673297</td>\n      <td>9/16/2017</td>\n      <td>0:09</td>\n      <td>NaN</td>\n      <td>7165.0</td>\n      <td>0092 biketown</td>\n      <td>0.0</td>\n      <td>0:11:42</td>\n      <td>keypad</td>\n      <td>False</td>\n    </tr>\n  </tbody>\n</table>\n</div>"
     },
     "execution_count": 37,
     "metadata": {},
     "output_type": "execute_result"
    }
   ],
   "source": [
    "combined_df[combined_df[['StartLatitude', 'StartLongitude', 'StartHub']].isna().all(axis=1)]\n"
   ],
   "metadata": {
    "collapsed": false,
    "ExecuteTime": {
     "end_time": "2024-03-20T16:29:00.770412Z",
     "start_time": "2024-03-20T16:29:00.611576Z"
    }
   },
   "id": "23fbb5e66e369ad2",
   "execution_count": 37
  },
  {
   "cell_type": "code",
   "outputs": [],
   "source": [
    "combined_df['startCoords'] = combined_df.apply(lambda x: str(x['StartLatitude']) + str(x['StartLongitude']), axis=1)\n",
    "combined_df['endCoords'] = combined_df.apply(lambda x: str(x['StartLatitude']) + str(x['StartLongitude']), axis=1)"
   ],
   "metadata": {
    "collapsed": false,
    "ExecuteTime": {
     "end_time": "2024-03-19T15:54:29.088553Z",
     "start_time": "2024-03-19T15:54:14.158530Z"
    }
   },
   "id": "3d7f8badb8350761",
   "execution_count": 103
  },
  {
   "cell_type": "code",
   "outputs": [],
   "source": [
    "srs = pd.concat([combined_df['startCoords'],combined_df['endCoords']]).value_counts()"
   ],
   "metadata": {
    "collapsed": false,
    "ExecuteTime": {
     "end_time": "2024-03-19T15:54:29.269815Z",
     "start_time": "2024-03-19T15:54:29.089140Z"
    }
   },
   "id": "8b9b1cd1255b429c",
   "execution_count": 104
  },
  {
   "cell_type": "code",
   "outputs": [],
   "source": [
    "counts_df = pd.DataFrame(srs)"
   ],
   "metadata": {
    "collapsed": false,
    "ExecuteTime": {
     "end_time": "2024-03-19T15:54:29.277630Z",
     "start_time": "2024-03-19T15:54:29.273915Z"
    }
   },
   "id": "40070e3e608df167",
   "execution_count": 105
  },
  {
   "cell_type": "code",
   "outputs": [
    {
     "data": {
      "text/plain": "                         count\n45.51556831-122.6738924  58424\n45.49913657-122.6716433  42356\n45.50910258-122.6735169  38000\n45.52487653-122.6965141  36724\n45.53080401-122.6844227  36336\n...                        ...\n45.5048405-122.648675      102\n45.5482349-122.6411208     102\n45.5265119-122.6101824     102\n45.5397983-122.6109434     102\n45.5328261-122.6190206     102\n\n[1341 rows x 1 columns]",
      "text/html": "<div>\n<style scoped>\n    .dataframe tbody tr th:only-of-type {\n        vertical-align: middle;\n    }\n\n    .dataframe tbody tr th {\n        vertical-align: top;\n    }\n\n    .dataframe thead th {\n        text-align: right;\n    }\n</style>\n<table border=\"1\" class=\"dataframe\">\n  <thead>\n    <tr style=\"text-align: right;\">\n      <th></th>\n      <th>count</th>\n    </tr>\n  </thead>\n  <tbody>\n    <tr>\n      <th>45.51556831-122.6738924</th>\n      <td>58424</td>\n    </tr>\n    <tr>\n      <th>45.49913657-122.6716433</th>\n      <td>42356</td>\n    </tr>\n    <tr>\n      <th>45.50910258-122.6735169</th>\n      <td>38000</td>\n    </tr>\n    <tr>\n      <th>45.52487653-122.6965141</th>\n      <td>36724</td>\n    </tr>\n    <tr>\n      <th>45.53080401-122.6844227</th>\n      <td>36336</td>\n    </tr>\n    <tr>\n      <th>...</th>\n      <td>...</td>\n    </tr>\n    <tr>\n      <th>45.5048405-122.648675</th>\n      <td>102</td>\n    </tr>\n    <tr>\n      <th>45.5482349-122.6411208</th>\n      <td>102</td>\n    </tr>\n    <tr>\n      <th>45.5265119-122.6101824</th>\n      <td>102</td>\n    </tr>\n    <tr>\n      <th>45.5397983-122.6109434</th>\n      <td>102</td>\n    </tr>\n    <tr>\n      <th>45.5328261-122.6190206</th>\n      <td>102</td>\n    </tr>\n  </tbody>\n</table>\n<p>1341 rows × 1 columns</p>\n</div>"
     },
     "execution_count": 108,
     "metadata": {},
     "output_type": "execute_result"
    }
   ],
   "source": [
    "counts_df[(counts_df['count'] > 100)]"
   ],
   "metadata": {
    "collapsed": false,
    "ExecuteTime": {
     "end_time": "2024-03-19T15:55:11.188867Z",
     "start_time": "2024-03-19T15:55:11.172892Z"
    }
   },
   "id": "bcad13c8c8342dd7",
   "execution_count": 108
  },
  {
   "cell_type": "code",
   "outputs": [
    {
     "data": {
      "text/plain": "           RouteID PaymentPlan                               StartHub  \\\n0        4686114.0  Subscriber                     NW 22nd at LoveJoy   \n1        4686153.0      Casual                                    NaN   \n2        4686156.0  Subscriber                                    NaN   \n3        4686164.0      Casual  SW Morrison at Pioneer Courthouse Sq.   \n4        4686166.0  Subscriber                                    NaN   \n...            ...         ...                                    ...   \n1294442        NaN         NaN                                    NaN   \n1294443        NaN         NaN                                    NaN   \n1294444        NaN         NaN                                    NaN   \n1294445        NaN         NaN                                    NaN   \n1294446        NaN         NaN                                    NaN   \n\n         StartLatitude  StartLongitude  StartDate StartTime  \\\n0            45.529760     -122.696643  10/1/2017      0:05   \n1            45.522941     -122.688602  10/1/2017      0:17   \n2            45.521622     -122.682415  10/1/2017      0:18   \n3            45.519289     -122.679249  10/1/2017      0:21   \n4            45.531477     -122.684482  10/1/2017      0:22   \n...                ...             ...        ...       ...   \n1294442            NaN             NaN        NaN       NaN   \n1294443            NaN             NaN        NaN       NaN   \n1294444            NaN             NaN        NaN       NaN   \n1294445            NaN             NaN        NaN       NaN   \n1294446            NaN             NaN        NaN       NaN   \n\n                         EndHub  EndLatitude  EndLongitude  ... TripType  \\\n0        NW Broadway at Everett    45.525079   -122.677556  ...      NaN   \n1              SW 3rd at Ankeny    45.522479   -122.673297  ...      NaN   \n2           SW Morrison at 18th    45.521960   -122.689677  ...      NaN   \n3           NW 13th at Marshall    45.530804   -122.684423  ...      NaN   \n4                           NaN    45.536071   -122.685271  ...      NaN   \n...                         ...          ...           ...  ...      ...   \n1294442                     NaN          NaN           NaN  ...      NaN   \n1294443                     NaN          NaN           NaN  ...      NaN   \n1294444                     NaN          NaN           NaN  ...      NaN   \n1294445                     NaN          NaN           NaN  ...      NaN   \n1294446                     NaN          NaN           NaN  ...      NaN   \n\n         BikeID       BikeName  Distance_Miles Duration  RentalAccessPath  \\\n0        6563.0  0642 biketown            1.51  0:13:04            keypad   \n1        6273.0  0057 biketown            0.78  0:05:11            keypad   \n2        7280.0  0026 biketown            0.43  0:03:58            keypad   \n3        6274.0  0819 biketown            1.02  0:11:30            keypad   \n4        7112.0  0388 biketown            0.93  0:13:40  keypad_rfid_card   \n...         ...            ...             ...      ...               ...   \n1294442     NaN            NaN             NaN      NaN               NaN   \n1294443     NaN            NaN             NaN      NaN               NaN   \n1294444     NaN            NaN             NaN      NaN               NaN   \n1294445     NaN            NaN             NaN      NaN               NaN   \n1294446     NaN            NaN             NaN      NaN               NaN   \n\n        MultipleRental Distance_Miles_              startCoords  \\\n0                False             NaN  45.52976024-122.6966429   \n1                False             NaN   45.5229406-122.6886019   \n2                False             NaN   45.5216215-122.6824147   \n3                False             NaN  45.51928859-122.6792488   \n4                False             NaN    45.531477-122.6844821   \n...                ...             ...                      ...   \n1294442            NaN             NaN                   nannan   \n1294443            NaN             NaN                   nannan   \n1294444            NaN             NaN                   nannan   \n1294445            NaN             NaN                   nannan   \n1294446            NaN             NaN                   nannan   \n\n                       endCoords  \n0        45.52976024-122.6966429  \n1         45.5229406-122.6886019  \n2         45.5216215-122.6824147  \n3        45.51928859-122.6792488  \n4          45.531477-122.6844821  \n...                          ...  \n1294442                   nannan  \n1294443                   nannan  \n1294444                   nannan  \n1294445                   nannan  \n1294446                   nannan  \n\n[1294447 rows x 22 columns]",
      "text/html": "<div>\n<style scoped>\n    .dataframe tbody tr th:only-of-type {\n        vertical-align: middle;\n    }\n\n    .dataframe tbody tr th {\n        vertical-align: top;\n    }\n\n    .dataframe thead th {\n        text-align: right;\n    }\n</style>\n<table border=\"1\" class=\"dataframe\">\n  <thead>\n    <tr style=\"text-align: right;\">\n      <th></th>\n      <th>RouteID</th>\n      <th>PaymentPlan</th>\n      <th>StartHub</th>\n      <th>StartLatitude</th>\n      <th>StartLongitude</th>\n      <th>StartDate</th>\n      <th>StartTime</th>\n      <th>EndHub</th>\n      <th>EndLatitude</th>\n      <th>EndLongitude</th>\n      <th>...</th>\n      <th>TripType</th>\n      <th>BikeID</th>\n      <th>BikeName</th>\n      <th>Distance_Miles</th>\n      <th>Duration</th>\n      <th>RentalAccessPath</th>\n      <th>MultipleRental</th>\n      <th>Distance_Miles_</th>\n      <th>startCoords</th>\n      <th>endCoords</th>\n    </tr>\n  </thead>\n  <tbody>\n    <tr>\n      <th>0</th>\n      <td>4686114.0</td>\n      <td>Subscriber</td>\n      <td>NW 22nd at LoveJoy</td>\n      <td>45.529760</td>\n      <td>-122.696643</td>\n      <td>10/1/2017</td>\n      <td>0:05</td>\n      <td>NW Broadway at Everett</td>\n      <td>45.525079</td>\n      <td>-122.677556</td>\n      <td>...</td>\n      <td>NaN</td>\n      <td>6563.0</td>\n      <td>0642 biketown</td>\n      <td>1.51</td>\n      <td>0:13:04</td>\n      <td>keypad</td>\n      <td>False</td>\n      <td>NaN</td>\n      <td>45.52976024-122.6966429</td>\n      <td>45.52976024-122.6966429</td>\n    </tr>\n    <tr>\n      <th>1</th>\n      <td>4686153.0</td>\n      <td>Casual</td>\n      <td>NaN</td>\n      <td>45.522941</td>\n      <td>-122.688602</td>\n      <td>10/1/2017</td>\n      <td>0:17</td>\n      <td>SW 3rd at Ankeny</td>\n      <td>45.522479</td>\n      <td>-122.673297</td>\n      <td>...</td>\n      <td>NaN</td>\n      <td>6273.0</td>\n      <td>0057 biketown</td>\n      <td>0.78</td>\n      <td>0:05:11</td>\n      <td>keypad</td>\n      <td>False</td>\n      <td>NaN</td>\n      <td>45.5229406-122.6886019</td>\n      <td>45.5229406-122.6886019</td>\n    </tr>\n    <tr>\n      <th>2</th>\n      <td>4686156.0</td>\n      <td>Subscriber</td>\n      <td>NaN</td>\n      <td>45.521622</td>\n      <td>-122.682415</td>\n      <td>10/1/2017</td>\n      <td>0:18</td>\n      <td>SW Morrison at 18th</td>\n      <td>45.521960</td>\n      <td>-122.689677</td>\n      <td>...</td>\n      <td>NaN</td>\n      <td>7280.0</td>\n      <td>0026 biketown</td>\n      <td>0.43</td>\n      <td>0:03:58</td>\n      <td>keypad</td>\n      <td>False</td>\n      <td>NaN</td>\n      <td>45.5216215-122.6824147</td>\n      <td>45.5216215-122.6824147</td>\n    </tr>\n    <tr>\n      <th>3</th>\n      <td>4686164.0</td>\n      <td>Casual</td>\n      <td>SW Morrison at Pioneer Courthouse Sq.</td>\n      <td>45.519289</td>\n      <td>-122.679249</td>\n      <td>10/1/2017</td>\n      <td>0:21</td>\n      <td>NW 13th at Marshall</td>\n      <td>45.530804</td>\n      <td>-122.684423</td>\n      <td>...</td>\n      <td>NaN</td>\n      <td>6274.0</td>\n      <td>0819 biketown</td>\n      <td>1.02</td>\n      <td>0:11:30</td>\n      <td>keypad</td>\n      <td>False</td>\n      <td>NaN</td>\n      <td>45.51928859-122.6792488</td>\n      <td>45.51928859-122.6792488</td>\n    </tr>\n    <tr>\n      <th>4</th>\n      <td>4686166.0</td>\n      <td>Subscriber</td>\n      <td>NaN</td>\n      <td>45.531477</td>\n      <td>-122.684482</td>\n      <td>10/1/2017</td>\n      <td>0:22</td>\n      <td>NaN</td>\n      <td>45.536071</td>\n      <td>-122.685271</td>\n      <td>...</td>\n      <td>NaN</td>\n      <td>7112.0</td>\n      <td>0388 biketown</td>\n      <td>0.93</td>\n      <td>0:13:40</td>\n      <td>keypad_rfid_card</td>\n      <td>False</td>\n      <td>NaN</td>\n      <td>45.531477-122.6844821</td>\n      <td>45.531477-122.6844821</td>\n    </tr>\n    <tr>\n      <th>...</th>\n      <td>...</td>\n      <td>...</td>\n      <td>...</td>\n      <td>...</td>\n      <td>...</td>\n      <td>...</td>\n      <td>...</td>\n      <td>...</td>\n      <td>...</td>\n      <td>...</td>\n      <td>...</td>\n      <td>...</td>\n      <td>...</td>\n      <td>...</td>\n      <td>...</td>\n      <td>...</td>\n      <td>...</td>\n      <td>...</td>\n      <td>...</td>\n      <td>...</td>\n      <td>...</td>\n    </tr>\n    <tr>\n      <th>1294442</th>\n      <td>NaN</td>\n      <td>NaN</td>\n      <td>NaN</td>\n      <td>NaN</td>\n      <td>NaN</td>\n      <td>NaN</td>\n      <td>NaN</td>\n      <td>NaN</td>\n      <td>NaN</td>\n      <td>NaN</td>\n      <td>...</td>\n      <td>NaN</td>\n      <td>NaN</td>\n      <td>NaN</td>\n      <td>NaN</td>\n      <td>NaN</td>\n      <td>NaN</td>\n      <td>NaN</td>\n      <td>NaN</td>\n      <td>nannan</td>\n      <td>nannan</td>\n    </tr>\n    <tr>\n      <th>1294443</th>\n      <td>NaN</td>\n      <td>NaN</td>\n      <td>NaN</td>\n      <td>NaN</td>\n      <td>NaN</td>\n      <td>NaN</td>\n      <td>NaN</td>\n      <td>NaN</td>\n      <td>NaN</td>\n      <td>NaN</td>\n      <td>...</td>\n      <td>NaN</td>\n      <td>NaN</td>\n      <td>NaN</td>\n      <td>NaN</td>\n      <td>NaN</td>\n      <td>NaN</td>\n      <td>NaN</td>\n      <td>NaN</td>\n      <td>nannan</td>\n      <td>nannan</td>\n    </tr>\n    <tr>\n      <th>1294444</th>\n      <td>NaN</td>\n      <td>NaN</td>\n      <td>NaN</td>\n      <td>NaN</td>\n      <td>NaN</td>\n      <td>NaN</td>\n      <td>NaN</td>\n      <td>NaN</td>\n      <td>NaN</td>\n      <td>NaN</td>\n      <td>...</td>\n      <td>NaN</td>\n      <td>NaN</td>\n      <td>NaN</td>\n      <td>NaN</td>\n      <td>NaN</td>\n      <td>NaN</td>\n      <td>NaN</td>\n      <td>NaN</td>\n      <td>nannan</td>\n      <td>nannan</td>\n    </tr>\n    <tr>\n      <th>1294445</th>\n      <td>NaN</td>\n      <td>NaN</td>\n      <td>NaN</td>\n      <td>NaN</td>\n      <td>NaN</td>\n      <td>NaN</td>\n      <td>NaN</td>\n      <td>NaN</td>\n      <td>NaN</td>\n      <td>NaN</td>\n      <td>...</td>\n      <td>NaN</td>\n      <td>NaN</td>\n      <td>NaN</td>\n      <td>NaN</td>\n      <td>NaN</td>\n      <td>NaN</td>\n      <td>NaN</td>\n      <td>NaN</td>\n      <td>nannan</td>\n      <td>nannan</td>\n    </tr>\n    <tr>\n      <th>1294446</th>\n      <td>NaN</td>\n      <td>NaN</td>\n      <td>NaN</td>\n      <td>NaN</td>\n      <td>NaN</td>\n      <td>NaN</td>\n      <td>NaN</td>\n      <td>NaN</td>\n      <td>NaN</td>\n      <td>NaN</td>\n      <td>...</td>\n      <td>NaN</td>\n      <td>NaN</td>\n      <td>NaN</td>\n      <td>NaN</td>\n      <td>NaN</td>\n      <td>NaN</td>\n      <td>NaN</td>\n      <td>NaN</td>\n      <td>nannan</td>\n      <td>nannan</td>\n    </tr>\n  </tbody>\n</table>\n<p>1294447 rows × 22 columns</p>\n</div>"
     },
     "execution_count": 106,
     "metadata": {},
     "output_type": "execute_result"
    }
   ],
   "source": [
    "combined_df"
   ],
   "metadata": {
    "collapsed": false,
    "ExecuteTime": {
     "end_time": "2024-03-19T15:54:33.216939Z",
     "start_time": "2024-03-19T15:54:31.870187Z"
    }
   },
   "id": "91a76b772964d404",
   "execution_count": 106
  },
  {
   "cell_type": "code",
   "outputs": [
    {
     "data": {
      "text/plain": "                         count\n45.51556831-122.6738924  58424\n45.49913657-122.6716433  42356\n45.50910258-122.6735169  38000\n45.52487653-122.6965141  36724\n45.53080401-122.6844227  36336\n...                        ...\n45.4960788-122.6534484       2\n45.568972-122.6614012        2\n45.4948153-122.5787706       2\n45.5339574-122.9181596       2\n45.5284015-122.6535725       2\n\n[4355 rows x 1 columns]",
      "text/html": "<div>\n<style scoped>\n    .dataframe tbody tr th:only-of-type {\n        vertical-align: middle;\n    }\n\n    .dataframe tbody tr th {\n        vertical-align: top;\n    }\n\n    .dataframe thead th {\n        text-align: right;\n    }\n</style>\n<table border=\"1\" class=\"dataframe\">\n  <thead>\n    <tr style=\"text-align: right;\">\n      <th></th>\n      <th>count</th>\n    </tr>\n  </thead>\n  <tbody>\n    <tr>\n      <th>45.51556831-122.6738924</th>\n      <td>58424</td>\n    </tr>\n    <tr>\n      <th>45.49913657-122.6716433</th>\n      <td>42356</td>\n    </tr>\n    <tr>\n      <th>45.50910258-122.6735169</th>\n      <td>38000</td>\n    </tr>\n    <tr>\n      <th>45.52487653-122.6965141</th>\n      <td>36724</td>\n    </tr>\n    <tr>\n      <th>45.53080401-122.6844227</th>\n      <td>36336</td>\n    </tr>\n    <tr>\n      <th>...</th>\n      <td>...</td>\n    </tr>\n    <tr>\n      <th>45.4960788-122.6534484</th>\n      <td>2</td>\n    </tr>\n    <tr>\n      <th>45.568972-122.6614012</th>\n      <td>2</td>\n    </tr>\n    <tr>\n      <th>45.4948153-122.5787706</th>\n      <td>2</td>\n    </tr>\n    <tr>\n      <th>45.5339574-122.9181596</th>\n      <td>2</td>\n    </tr>\n    <tr>\n      <th>45.5284015-122.6535725</th>\n      <td>2</td>\n    </tr>\n  </tbody>\n</table>\n<p>4355 rows × 1 columns</p>\n</div>"
     },
     "execution_count": 107,
     "metadata": {},
     "output_type": "execute_result"
    }
   ],
   "source": [
    "counts_df"
   ],
   "metadata": {
    "collapsed": false,
    "ExecuteTime": {
     "end_time": "2024-03-19T15:54:46.509129Z",
     "start_time": "2024-03-19T15:54:46.490554Z"
    }
   },
   "id": "c07c1aac2aa88a4f",
   "execution_count": 107
  },
  {
   "cell_type": "code",
   "outputs": [
    {
     "data": {
      "text/plain": "                               RouteID  PaymentPlan  StartHub  StartLatitude  \\\nBikeID  BikeName                                                               \n5986.0  0549 biketown             1180         1180       889           1093   \n        0549 pbot xm biketown        4            4         4              4   \n5987.0  0487 biketown             1250         1250       836           1130   \n        0487 mss biketown            9            9         9              9   \n5988.0  0696 biketown             1338         1338       960           1170   \n...                                ...          ...       ...            ...   \n34802.0 service controller 4         1            1         0              1   \n35477.0 0315 biketown              113          113        88            113   \n        0315 mss biketown            1            1         1              1   \n35537.0 0881 biketown               82           82        49             82   \n        0881 xc biketown             4            4         2              4   \n\n                               StartLongitude  StartDate  StartTime  EndHub  \\\nBikeID  BikeName                                                              \n5986.0  0549 biketown                    1093       1180       1180     900   \n        0549 pbot xm biketown               4          4          4       4   \n5987.0  0487 biketown                    1130       1250       1250     891   \n        0487 mss biketown                   9          9          9       8   \n5988.0  0696 biketown                    1170       1338       1338     979   \n...                                       ...        ...        ...     ...   \n34802.0 service controller 4                1          1          1       0   \n35477.0 0315 biketown                     113        113        113      76   \n        0315 mss biketown                   1          1          1       0   \n35537.0 0881 biketown                      82         82         82      46   \n        0881 xc biketown                    4          4          4       0   \n\n                               EndLatitude  EndLongitude  ...  TripType  \\\nBikeID  BikeName                                          ...             \n5986.0  0549 biketown                 1093          1093  ...         2   \n        0549 pbot xm biketown            4             4  ...         0   \n5987.0  0487 biketown                 1130          1130  ...         1   \n        0487 mss biketown                9             9  ...         0   \n5988.0  0696 biketown                 1170          1170  ...         2   \n...                                    ...           ...  ...       ...   \n34802.0 service controller 4             1             1  ...         0   \n35477.0 0315 biketown                  113           113  ...         0   \n        0315 mss biketown                1             1  ...         0   \n35537.0 0881 biketown                   82            82  ...         0   \n        0881 xc biketown                 4             4  ...         1   \n\n                               Distance_Miles  Duration  RentalAccessPath  \\\nBikeID  BikeName                                                            \n5986.0  0549 biketown                    1048      1177              1180   \n        0549 pbot xm biketown               0         4                 4   \n5987.0  0487 biketown                    1075      1239              1250   \n        0487 mss biketown                   0         9                 9   \n5988.0  0696 biketown                    1115      1337              1338   \n...                                       ...       ...               ...   \n34802.0 service controller 4                1         1                 1   \n35477.0 0315 biketown                      13       113               113   \n        0315 mss biketown                   1         1                 1   \n35537.0 0881 biketown                      32        82                82   \n        0881 xc biketown                    0         4                 4   \n\n                               MultipleRental  Start_Latitude  \\\nBikeID  BikeName                                                \n5986.0  0549 biketown                    1180              87   \n        0549 pbot xm biketown               4               0   \n5987.0  0487 biketown                    1250             120   \n        0487 mss biketown                   9               0   \n5988.0  0696 biketown                    1338             168   \n...                                       ...             ...   \n34802.0 service controller 4                1               0   \n35477.0 0315 biketown                     113               0   \n        0315 mss biketown                   1               0   \n35537.0 0881 biketown                      82               0   \n        0881 xc biketown                    4               0   \n\n                               Start_Longitude  End_Latitude  End_Longitude  \\\nBikeID  BikeName                                                              \n5986.0  0549 biketown                       87            87             87   \n        0549 pbot xm biketown                0             0              0   \n5987.0  0487 biketown                      120           120            120   \n        0487 mss biketown                    0             0              0   \n5988.0  0696 biketown                      168           168            168   \n...                                        ...           ...            ...   \n34802.0 service controller 4                 0             0              0   \n35477.0 0315 biketown                        0             0              0   \n        0315 mss biketown                    0             0              0   \n35537.0 0881 biketown                        0             0              0   \n        0881 xc biketown                     0             0              0   \n\n                               Distance_Miles_  \nBikeID  BikeName                                \n5986.0  0549 biketown                      132  \n        0549 pbot xm biketown                4  \n5987.0  0487 biketown                      175  \n        0487 mss biketown                    9  \n5988.0  0696 biketown                      223  \n...                                        ...  \n34802.0 service controller 4                 0  \n35477.0 0315 biketown                      100  \n        0315 mss biketown                    0  \n35537.0 0881 biketown                       50  \n        0881 xc biketown                     4  \n\n[2311 rows x 22 columns]",
      "text/html": "<div>\n<style scoped>\n    .dataframe tbody tr th:only-of-type {\n        vertical-align: middle;\n    }\n\n    .dataframe tbody tr th {\n        vertical-align: top;\n    }\n\n    .dataframe thead th {\n        text-align: right;\n    }\n</style>\n<table border=\"1\" class=\"dataframe\">\n  <thead>\n    <tr style=\"text-align: right;\">\n      <th></th>\n      <th></th>\n      <th>RouteID</th>\n      <th>PaymentPlan</th>\n      <th>StartHub</th>\n      <th>StartLatitude</th>\n      <th>StartLongitude</th>\n      <th>StartDate</th>\n      <th>StartTime</th>\n      <th>EndHub</th>\n      <th>EndLatitude</th>\n      <th>EndLongitude</th>\n      <th>...</th>\n      <th>TripType</th>\n      <th>Distance_Miles</th>\n      <th>Duration</th>\n      <th>RentalAccessPath</th>\n      <th>MultipleRental</th>\n      <th>Start_Latitude</th>\n      <th>Start_Longitude</th>\n      <th>End_Latitude</th>\n      <th>End_Longitude</th>\n      <th>Distance_Miles_</th>\n    </tr>\n    <tr>\n      <th>BikeID</th>\n      <th>BikeName</th>\n      <th></th>\n      <th></th>\n      <th></th>\n      <th></th>\n      <th></th>\n      <th></th>\n      <th></th>\n      <th></th>\n      <th></th>\n      <th></th>\n      <th></th>\n      <th></th>\n      <th></th>\n      <th></th>\n      <th></th>\n      <th></th>\n      <th></th>\n      <th></th>\n      <th></th>\n      <th></th>\n      <th></th>\n    </tr>\n  </thead>\n  <tbody>\n    <tr>\n      <th rowspan=\"2\" valign=\"top\">5986.0</th>\n      <th>0549 biketown</th>\n      <td>1180</td>\n      <td>1180</td>\n      <td>889</td>\n      <td>1093</td>\n      <td>1093</td>\n      <td>1180</td>\n      <td>1180</td>\n      <td>900</td>\n      <td>1093</td>\n      <td>1093</td>\n      <td>...</td>\n      <td>2</td>\n      <td>1048</td>\n      <td>1177</td>\n      <td>1180</td>\n      <td>1180</td>\n      <td>87</td>\n      <td>87</td>\n      <td>87</td>\n      <td>87</td>\n      <td>132</td>\n    </tr>\n    <tr>\n      <th>0549 pbot xm biketown</th>\n      <td>4</td>\n      <td>4</td>\n      <td>4</td>\n      <td>4</td>\n      <td>4</td>\n      <td>4</td>\n      <td>4</td>\n      <td>4</td>\n      <td>4</td>\n      <td>4</td>\n      <td>...</td>\n      <td>0</td>\n      <td>0</td>\n      <td>4</td>\n      <td>4</td>\n      <td>4</td>\n      <td>0</td>\n      <td>0</td>\n      <td>0</td>\n      <td>0</td>\n      <td>4</td>\n    </tr>\n    <tr>\n      <th rowspan=\"2\" valign=\"top\">5987.0</th>\n      <th>0487 biketown</th>\n      <td>1250</td>\n      <td>1250</td>\n      <td>836</td>\n      <td>1130</td>\n      <td>1130</td>\n      <td>1250</td>\n      <td>1250</td>\n      <td>891</td>\n      <td>1130</td>\n      <td>1130</td>\n      <td>...</td>\n      <td>1</td>\n      <td>1075</td>\n      <td>1239</td>\n      <td>1250</td>\n      <td>1250</td>\n      <td>120</td>\n      <td>120</td>\n      <td>120</td>\n      <td>120</td>\n      <td>175</td>\n    </tr>\n    <tr>\n      <th>0487 mss biketown</th>\n      <td>9</td>\n      <td>9</td>\n      <td>9</td>\n      <td>9</td>\n      <td>9</td>\n      <td>9</td>\n      <td>9</td>\n      <td>8</td>\n      <td>9</td>\n      <td>9</td>\n      <td>...</td>\n      <td>0</td>\n      <td>0</td>\n      <td>9</td>\n      <td>9</td>\n      <td>9</td>\n      <td>0</td>\n      <td>0</td>\n      <td>0</td>\n      <td>0</td>\n      <td>9</td>\n    </tr>\n    <tr>\n      <th>5988.0</th>\n      <th>0696 biketown</th>\n      <td>1338</td>\n      <td>1338</td>\n      <td>960</td>\n      <td>1170</td>\n      <td>1170</td>\n      <td>1338</td>\n      <td>1338</td>\n      <td>979</td>\n      <td>1170</td>\n      <td>1170</td>\n      <td>...</td>\n      <td>2</td>\n      <td>1115</td>\n      <td>1337</td>\n      <td>1338</td>\n      <td>1338</td>\n      <td>168</td>\n      <td>168</td>\n      <td>168</td>\n      <td>168</td>\n      <td>223</td>\n    </tr>\n    <tr>\n      <th>...</th>\n      <th>...</th>\n      <td>...</td>\n      <td>...</td>\n      <td>...</td>\n      <td>...</td>\n      <td>...</td>\n      <td>...</td>\n      <td>...</td>\n      <td>...</td>\n      <td>...</td>\n      <td>...</td>\n      <td>...</td>\n      <td>...</td>\n      <td>...</td>\n      <td>...</td>\n      <td>...</td>\n      <td>...</td>\n      <td>...</td>\n      <td>...</td>\n      <td>...</td>\n      <td>...</td>\n      <td>...</td>\n    </tr>\n    <tr>\n      <th>34802.0</th>\n      <th>service controller 4</th>\n      <td>1</td>\n      <td>1</td>\n      <td>0</td>\n      <td>1</td>\n      <td>1</td>\n      <td>1</td>\n      <td>1</td>\n      <td>0</td>\n      <td>1</td>\n      <td>1</td>\n      <td>...</td>\n      <td>0</td>\n      <td>1</td>\n      <td>1</td>\n      <td>1</td>\n      <td>1</td>\n      <td>0</td>\n      <td>0</td>\n      <td>0</td>\n      <td>0</td>\n      <td>0</td>\n    </tr>\n    <tr>\n      <th rowspan=\"2\" valign=\"top\">35477.0</th>\n      <th>0315 biketown</th>\n      <td>113</td>\n      <td>113</td>\n      <td>88</td>\n      <td>113</td>\n      <td>113</td>\n      <td>113</td>\n      <td>113</td>\n      <td>76</td>\n      <td>113</td>\n      <td>113</td>\n      <td>...</td>\n      <td>0</td>\n      <td>13</td>\n      <td>113</td>\n      <td>113</td>\n      <td>113</td>\n      <td>0</td>\n      <td>0</td>\n      <td>0</td>\n      <td>0</td>\n      <td>100</td>\n    </tr>\n    <tr>\n      <th>0315 mss biketown</th>\n      <td>1</td>\n      <td>1</td>\n      <td>1</td>\n      <td>1</td>\n      <td>1</td>\n      <td>1</td>\n      <td>1</td>\n      <td>0</td>\n      <td>1</td>\n      <td>1</td>\n      <td>...</td>\n      <td>0</td>\n      <td>1</td>\n      <td>1</td>\n      <td>1</td>\n      <td>1</td>\n      <td>0</td>\n      <td>0</td>\n      <td>0</td>\n      <td>0</td>\n      <td>0</td>\n    </tr>\n    <tr>\n      <th rowspan=\"2\" valign=\"top\">35537.0</th>\n      <th>0881 biketown</th>\n      <td>82</td>\n      <td>82</td>\n      <td>49</td>\n      <td>82</td>\n      <td>82</td>\n      <td>82</td>\n      <td>82</td>\n      <td>46</td>\n      <td>82</td>\n      <td>82</td>\n      <td>...</td>\n      <td>0</td>\n      <td>32</td>\n      <td>82</td>\n      <td>82</td>\n      <td>82</td>\n      <td>0</td>\n      <td>0</td>\n      <td>0</td>\n      <td>0</td>\n      <td>50</td>\n    </tr>\n    <tr>\n      <th>0881 xc biketown</th>\n      <td>4</td>\n      <td>4</td>\n      <td>2</td>\n      <td>4</td>\n      <td>4</td>\n      <td>4</td>\n      <td>4</td>\n      <td>0</td>\n      <td>4</td>\n      <td>4</td>\n      <td>...</td>\n      <td>1</td>\n      <td>0</td>\n      <td>4</td>\n      <td>4</td>\n      <td>4</td>\n      <td>0</td>\n      <td>0</td>\n      <td>0</td>\n      <td>0</td>\n      <td>4</td>\n    </tr>\n  </tbody>\n</table>\n<p>2311 rows × 22 columns</p>\n</div>"
     },
     "execution_count": 88,
     "metadata": {},
     "output_type": "execute_result"
    }
   ],
   "source": [
    "combined_df.groupby(['BikeID','BikeName']).count()"
   ],
   "metadata": {
    "collapsed": false,
    "ExecuteTime": {
     "end_time": "2024-03-18T17:07:33.096536Z",
     "start_time": "2024-03-18T17:07:32.564755Z"
    }
   },
   "id": "2a8e506cd9651743",
   "execution_count": 88
  },
  {
   "cell_type": "code",
   "outputs": [
    {
     "data": {
      "text/plain": "                               RouteID  PaymentPlan  StartHub  StartLatitude  \\\nBikeID  BikeName                                                               \n5986.0  0549 biketown             1180         1180       889           1093   \n        0549 pbot xm biketown        4            4         4              4   \n5987.0  0487 biketown             1250         1250       836           1130   \n        0487 mss biketown            9            9         9              9   \n5988.0  0696 biketown             1338         1338       960           1170   \n...                                ...          ...       ...            ...   \n34802.0 service controller 4         1            1         0              1   \n35477.0 0315 biketown              113          113        88            113   \n        0315 mss biketown            1            1         1              1   \n35537.0 0881 biketown               82           82        49             82   \n        0881 xc biketown             4            4         2              4   \n\n                               StartLongitude  StartDate  StartTime  EndHub  \\\nBikeID  BikeName                                                              \n5986.0  0549 biketown                    1093       1180       1180     900   \n        0549 pbot xm biketown               4          4          4       4   \n5987.0  0487 biketown                    1130       1250       1250     891   \n        0487 mss biketown                   9          9          9       8   \n5988.0  0696 biketown                    1170       1338       1338     979   \n...                                       ...        ...        ...     ...   \n34802.0 service controller 4                1          1          1       0   \n35477.0 0315 biketown                     113        113        113      76   \n        0315 mss biketown                   1          1          1       0   \n35537.0 0881 biketown                      82         82         82      46   \n        0881 xc biketown                    4          4          4       0   \n\n                               EndLatitude  EndLongitude  ...  TripType  \\\nBikeID  BikeName                                          ...             \n5986.0  0549 biketown                 1093          1093  ...         2   \n        0549 pbot xm biketown            4             4  ...         0   \n5987.0  0487 biketown                 1130          1130  ...         1   \n        0487 mss biketown                9             9  ...         0   \n5988.0  0696 biketown                 1170          1170  ...         2   \n...                                    ...           ...  ...       ...   \n34802.0 service controller 4             1             1  ...         0   \n35477.0 0315 biketown                  113           113  ...         0   \n        0315 mss biketown                1             1  ...         0   \n35537.0 0881 biketown                   82            82  ...         0   \n        0881 xc biketown                 4             4  ...         1   \n\n                               Distance_Miles  Duration  RentalAccessPath  \\\nBikeID  BikeName                                                            \n5986.0  0549 biketown                    1048      1177              1180   \n        0549 pbot xm biketown               0         4                 4   \n5987.0  0487 biketown                    1075      1239              1250   \n        0487 mss biketown                   0         9                 9   \n5988.0  0696 biketown                    1115      1337              1338   \n...                                       ...       ...               ...   \n34802.0 service controller 4                1         1                 1   \n35477.0 0315 biketown                      13       113               113   \n        0315 mss biketown                   1         1                 1   \n35537.0 0881 biketown                      32        82                82   \n        0881 xc biketown                    0         4                 4   \n\n                               MultipleRental  Start_Latitude  \\\nBikeID  BikeName                                                \n5986.0  0549 biketown                    1180              87   \n        0549 pbot xm biketown               4               0   \n5987.0  0487 biketown                    1250             120   \n        0487 mss biketown                   9               0   \n5988.0  0696 biketown                    1338             168   \n...                                       ...             ...   \n34802.0 service controller 4                1               0   \n35477.0 0315 biketown                     113               0   \n        0315 mss biketown                   1               0   \n35537.0 0881 biketown                      82               0   \n        0881 xc biketown                    4               0   \n\n                               Start_Longitude  End_Latitude  End_Longitude  \\\nBikeID  BikeName                                                              \n5986.0  0549 biketown                       87            87             87   \n        0549 pbot xm biketown                0             0              0   \n5987.0  0487 biketown                      120           120            120   \n        0487 mss biketown                    0             0              0   \n5988.0  0696 biketown                      168           168            168   \n...                                        ...           ...            ...   \n34802.0 service controller 4                 0             0              0   \n35477.0 0315 biketown                        0             0              0   \n        0315 mss biketown                    0             0              0   \n35537.0 0881 biketown                        0             0              0   \n        0881 xc biketown                     0             0              0   \n\n                               Distance_Miles_  \nBikeID  BikeName                                \n5986.0  0549 biketown                      132  \n        0549 pbot xm biketown                4  \n5987.0  0487 biketown                      175  \n        0487 mss biketown                    9  \n5988.0  0696 biketown                      223  \n...                                        ...  \n34802.0 service controller 4                 0  \n35477.0 0315 biketown                      100  \n        0315 mss biketown                    0  \n35537.0 0881 biketown                       50  \n        0881 xc biketown                     4  \n\n[2311 rows x 22 columns]",
      "text/html": "<div>\n<style scoped>\n    .dataframe tbody tr th:only-of-type {\n        vertical-align: middle;\n    }\n\n    .dataframe tbody tr th {\n        vertical-align: top;\n    }\n\n    .dataframe thead th {\n        text-align: right;\n    }\n</style>\n<table border=\"1\" class=\"dataframe\">\n  <thead>\n    <tr style=\"text-align: right;\">\n      <th></th>\n      <th></th>\n      <th>RouteID</th>\n      <th>PaymentPlan</th>\n      <th>StartHub</th>\n      <th>StartLatitude</th>\n      <th>StartLongitude</th>\n      <th>StartDate</th>\n      <th>StartTime</th>\n      <th>EndHub</th>\n      <th>EndLatitude</th>\n      <th>EndLongitude</th>\n      <th>...</th>\n      <th>TripType</th>\n      <th>Distance_Miles</th>\n      <th>Duration</th>\n      <th>RentalAccessPath</th>\n      <th>MultipleRental</th>\n      <th>Start_Latitude</th>\n      <th>Start_Longitude</th>\n      <th>End_Latitude</th>\n      <th>End_Longitude</th>\n      <th>Distance_Miles_</th>\n    </tr>\n    <tr>\n      <th>BikeID</th>\n      <th>BikeName</th>\n      <th></th>\n      <th></th>\n      <th></th>\n      <th></th>\n      <th></th>\n      <th></th>\n      <th></th>\n      <th></th>\n      <th></th>\n      <th></th>\n      <th></th>\n      <th></th>\n      <th></th>\n      <th></th>\n      <th></th>\n      <th></th>\n      <th></th>\n      <th></th>\n      <th></th>\n      <th></th>\n      <th></th>\n    </tr>\n  </thead>\n  <tbody>\n    <tr>\n      <th rowspan=\"2\" valign=\"top\">5986.0</th>\n      <th>0549 biketown</th>\n      <td>1180</td>\n      <td>1180</td>\n      <td>889</td>\n      <td>1093</td>\n      <td>1093</td>\n      <td>1180</td>\n      <td>1180</td>\n      <td>900</td>\n      <td>1093</td>\n      <td>1093</td>\n      <td>...</td>\n      <td>2</td>\n      <td>1048</td>\n      <td>1177</td>\n      <td>1180</td>\n      <td>1180</td>\n      <td>87</td>\n      <td>87</td>\n      <td>87</td>\n      <td>87</td>\n      <td>132</td>\n    </tr>\n    <tr>\n      <th>0549 pbot xm biketown</th>\n      <td>4</td>\n      <td>4</td>\n      <td>4</td>\n      <td>4</td>\n      <td>4</td>\n      <td>4</td>\n      <td>4</td>\n      <td>4</td>\n      <td>4</td>\n      <td>4</td>\n      <td>...</td>\n      <td>0</td>\n      <td>0</td>\n      <td>4</td>\n      <td>4</td>\n      <td>4</td>\n      <td>0</td>\n      <td>0</td>\n      <td>0</td>\n      <td>0</td>\n      <td>4</td>\n    </tr>\n    <tr>\n      <th rowspan=\"2\" valign=\"top\">5987.0</th>\n      <th>0487 biketown</th>\n      <td>1250</td>\n      <td>1250</td>\n      <td>836</td>\n      <td>1130</td>\n      <td>1130</td>\n      <td>1250</td>\n      <td>1250</td>\n      <td>891</td>\n      <td>1130</td>\n      <td>1130</td>\n      <td>...</td>\n      <td>1</td>\n      <td>1075</td>\n      <td>1239</td>\n      <td>1250</td>\n      <td>1250</td>\n      <td>120</td>\n      <td>120</td>\n      <td>120</td>\n      <td>120</td>\n      <td>175</td>\n    </tr>\n    <tr>\n      <th>0487 mss biketown</th>\n      <td>9</td>\n      <td>9</td>\n      <td>9</td>\n      <td>9</td>\n      <td>9</td>\n      <td>9</td>\n      <td>9</td>\n      <td>8</td>\n      <td>9</td>\n      <td>9</td>\n      <td>...</td>\n      <td>0</td>\n      <td>0</td>\n      <td>9</td>\n      <td>9</td>\n      <td>9</td>\n      <td>0</td>\n      <td>0</td>\n      <td>0</td>\n      <td>0</td>\n      <td>9</td>\n    </tr>\n    <tr>\n      <th>5988.0</th>\n      <th>0696 biketown</th>\n      <td>1338</td>\n      <td>1338</td>\n      <td>960</td>\n      <td>1170</td>\n      <td>1170</td>\n      <td>1338</td>\n      <td>1338</td>\n      <td>979</td>\n      <td>1170</td>\n      <td>1170</td>\n      <td>...</td>\n      <td>2</td>\n      <td>1115</td>\n      <td>1337</td>\n      <td>1338</td>\n      <td>1338</td>\n      <td>168</td>\n      <td>168</td>\n      <td>168</td>\n      <td>168</td>\n      <td>223</td>\n    </tr>\n    <tr>\n      <th>...</th>\n      <th>...</th>\n      <td>...</td>\n      <td>...</td>\n      <td>...</td>\n      <td>...</td>\n      <td>...</td>\n      <td>...</td>\n      <td>...</td>\n      <td>...</td>\n      <td>...</td>\n      <td>...</td>\n      <td>...</td>\n      <td>...</td>\n      <td>...</td>\n      <td>...</td>\n      <td>...</td>\n      <td>...</td>\n      <td>...</td>\n      <td>...</td>\n      <td>...</td>\n      <td>...</td>\n      <td>...</td>\n    </tr>\n    <tr>\n      <th>34802.0</th>\n      <th>service controller 4</th>\n      <td>1</td>\n      <td>1</td>\n      <td>0</td>\n      <td>1</td>\n      <td>1</td>\n      <td>1</td>\n      <td>1</td>\n      <td>0</td>\n      <td>1</td>\n      <td>1</td>\n      <td>...</td>\n      <td>0</td>\n      <td>1</td>\n      <td>1</td>\n      <td>1</td>\n      <td>1</td>\n      <td>0</td>\n      <td>0</td>\n      <td>0</td>\n      <td>0</td>\n      <td>0</td>\n    </tr>\n    <tr>\n      <th rowspan=\"2\" valign=\"top\">35477.0</th>\n      <th>0315 biketown</th>\n      <td>113</td>\n      <td>113</td>\n      <td>88</td>\n      <td>113</td>\n      <td>113</td>\n      <td>113</td>\n      <td>113</td>\n      <td>76</td>\n      <td>113</td>\n      <td>113</td>\n      <td>...</td>\n      <td>0</td>\n      <td>13</td>\n      <td>113</td>\n      <td>113</td>\n      <td>113</td>\n      <td>0</td>\n      <td>0</td>\n      <td>0</td>\n      <td>0</td>\n      <td>100</td>\n    </tr>\n    <tr>\n      <th>0315 mss biketown</th>\n      <td>1</td>\n      <td>1</td>\n      <td>1</td>\n      <td>1</td>\n      <td>1</td>\n      <td>1</td>\n      <td>1</td>\n      <td>0</td>\n      <td>1</td>\n      <td>1</td>\n      <td>...</td>\n      <td>0</td>\n      <td>1</td>\n      <td>1</td>\n      <td>1</td>\n      <td>1</td>\n      <td>0</td>\n      <td>0</td>\n      <td>0</td>\n      <td>0</td>\n      <td>0</td>\n    </tr>\n    <tr>\n      <th rowspan=\"2\" valign=\"top\">35537.0</th>\n      <th>0881 biketown</th>\n      <td>82</td>\n      <td>82</td>\n      <td>49</td>\n      <td>82</td>\n      <td>82</td>\n      <td>82</td>\n      <td>82</td>\n      <td>46</td>\n      <td>82</td>\n      <td>82</td>\n      <td>...</td>\n      <td>0</td>\n      <td>32</td>\n      <td>82</td>\n      <td>82</td>\n      <td>82</td>\n      <td>0</td>\n      <td>0</td>\n      <td>0</td>\n      <td>0</td>\n      <td>50</td>\n    </tr>\n    <tr>\n      <th>0881 xc biketown</th>\n      <td>4</td>\n      <td>4</td>\n      <td>2</td>\n      <td>4</td>\n      <td>4</td>\n      <td>4</td>\n      <td>4</td>\n      <td>0</td>\n      <td>4</td>\n      <td>4</td>\n      <td>...</td>\n      <td>1</td>\n      <td>0</td>\n      <td>4</td>\n      <td>4</td>\n      <td>4</td>\n      <td>0</td>\n      <td>0</td>\n      <td>0</td>\n      <td>0</td>\n      <td>4</td>\n    </tr>\n  </tbody>\n</table>\n<p>2311 rows × 22 columns</p>\n</div>"
     },
     "execution_count": 88,
     "metadata": {},
     "output_type": "execute_result"
    }
   ],
   "source": [
    "combined_df.groupby(['BikeID','BikeName']).count()"
   ],
   "metadata": {
    "collapsed": false
   },
   "id": "acc7d71a01dfc431",
   "execution_count": 88
  },
  {
   "cell_type": "code",
   "outputs": [
    {
     "data": {
      "text/plain": "           RouteID PaymentPlan                      StartHub  StartLatitude  \\\n3407     4742287.0  Subscriber           SE Taylor at Chavez      45.514975   \n3439     4742643.0  Subscriber                           NaN      45.512882   \n3454     4742787.0  Subscriber                           NaN      45.516457   \n8896     4802039.0  Subscriber                           NaN      45.516581   \n9604     4814953.0  Subscriber           SE Taylor at Chavez      45.514975   \n...            ...         ...                           ...            ...   \n1287150  4599411.0      Casual            SW 5th at Morrison      45.518895   \n1287693  4602409.0      Casual  SW Salmon at Waterfront Park      45.515568   \n1287761  4602701.0      Casual  SW Salmon at Waterfront Park      45.515568   \n1288697  4617651.0  Subscriber        SW River at Montgomery      45.509103   \n1293546  4684012.0      Casual            SW 3rd at Morrison      45.518039   \n\n         StartLongitude   StartDate StartTime                        EndHub  \\\n3407        -122.623157   10/5/2017     11:27                           NaN   \n3439        -122.622926   10/5/2017     11:52                           NaN   \n3454        -122.629573   10/5/2017     12:04                           NaN   \n8896        -122.621751  10/10/2017     17:30           SE Taylor at Chavez   \n9604        -122.623157  10/11/2017     20:33                           NaN   \n...                 ...         ...       ...                           ...   \n1287150     -122.677406   9/24/2017     14:27  SW Salmon at Waterfront Park   \n1287693     -122.673892   9/24/2017     19:34  SW Salmon at Waterfront Park   \n1287761     -122.673892   9/24/2017     20:31  SW Salmon at Waterfront Park   \n1288697     -122.673517   9/25/2017     23:17            SW 3rd at Morrison   \n1293546     -122.675582   9/30/2017     17:07             SE 9th at Belmont   \n\n         EndLatitude  EndLongitude  ...       BikeName Distance_Miles  \\\n3407       45.512882   -122.622926  ...  0657 biketown           0.20   \n3439       45.516457   -122.629573  ...  0657 biketown           0.53   \n3454       45.516581   -122.621751  ...  0657 biketown           0.46   \n8896       45.514975   -122.623157  ...  0657 biketown           0.13   \n9604       45.512049   -122.622839  ...  0657 biketown           0.22   \n...              ...           ...  ...            ...            ...   \n1287150    45.515568   -122.673892  ...  0657 biketown           2.38   \n1287693    45.515568   -122.673892  ...  0657 biketown           1.54   \n1287761    45.515568   -122.673892  ...  0657 biketown           6.58   \n1288697    45.518039   -122.675582  ...  0657 biketown           0.88   \n1293546    45.516333   -122.656632  ...  0657 biketown           1.52   \n\n        Duration  RentalAccessPath MultipleRental  Start_Latitude  \\\n3407     0:06:06            keypad          False             NaN   \n3439     0:08:28            keypad          False             NaN   \n3454     1:14:05            keypad          False             NaN   \n8896     0:02:34            keypad          False             NaN   \n9604     0:03:29            keypad          False             NaN   \n...          ...               ...            ...             ...   \n1287150  0:57:32            keypad          False             NaN   \n1287693  0:24:17            keypad          False             NaN   \n1287761  1:23:05            keypad          False             NaN   \n1288697  0:27:12            keypad          False             NaN   \n1293546  0:11:36            keypad          False             NaN   \n\n        Start_Longitude End_Latitude End_Longitude  Distance_Miles_  \n3407                NaN          NaN           NaN              NaN  \n3439                NaN          NaN           NaN              NaN  \n3454                NaN          NaN           NaN              NaN  \n8896                NaN          NaN           NaN              NaN  \n9604                NaN          NaN           NaN              NaN  \n...                 ...          ...           ...              ...  \n1287150             NaN          NaN           NaN              NaN  \n1287693             NaN          NaN           NaN              NaN  \n1287761             NaN          NaN           NaN              NaN  \n1288697             NaN          NaN           NaN              NaN  \n1293546             NaN          NaN           NaN              NaN  \n\n[1256 rows x 24 columns]",
      "text/html": "<div>\n<style scoped>\n    .dataframe tbody tr th:only-of-type {\n        vertical-align: middle;\n    }\n\n    .dataframe tbody tr th {\n        vertical-align: top;\n    }\n\n    .dataframe thead th {\n        text-align: right;\n    }\n</style>\n<table border=\"1\" class=\"dataframe\">\n  <thead>\n    <tr style=\"text-align: right;\">\n      <th></th>\n      <th>RouteID</th>\n      <th>PaymentPlan</th>\n      <th>StartHub</th>\n      <th>StartLatitude</th>\n      <th>StartLongitude</th>\n      <th>StartDate</th>\n      <th>StartTime</th>\n      <th>EndHub</th>\n      <th>EndLatitude</th>\n      <th>EndLongitude</th>\n      <th>...</th>\n      <th>BikeName</th>\n      <th>Distance_Miles</th>\n      <th>Duration</th>\n      <th>RentalAccessPath</th>\n      <th>MultipleRental</th>\n      <th>Start_Latitude</th>\n      <th>Start_Longitude</th>\n      <th>End_Latitude</th>\n      <th>End_Longitude</th>\n      <th>Distance_Miles_</th>\n    </tr>\n  </thead>\n  <tbody>\n    <tr>\n      <th>3407</th>\n      <td>4742287.0</td>\n      <td>Subscriber</td>\n      <td>SE Taylor at Chavez</td>\n      <td>45.514975</td>\n      <td>-122.623157</td>\n      <td>10/5/2017</td>\n      <td>11:27</td>\n      <td>NaN</td>\n      <td>45.512882</td>\n      <td>-122.622926</td>\n      <td>...</td>\n      <td>0657 biketown</td>\n      <td>0.20</td>\n      <td>0:06:06</td>\n      <td>keypad</td>\n      <td>False</td>\n      <td>NaN</td>\n      <td>NaN</td>\n      <td>NaN</td>\n      <td>NaN</td>\n      <td>NaN</td>\n    </tr>\n    <tr>\n      <th>3439</th>\n      <td>4742643.0</td>\n      <td>Subscriber</td>\n      <td>NaN</td>\n      <td>45.512882</td>\n      <td>-122.622926</td>\n      <td>10/5/2017</td>\n      <td>11:52</td>\n      <td>NaN</td>\n      <td>45.516457</td>\n      <td>-122.629573</td>\n      <td>...</td>\n      <td>0657 biketown</td>\n      <td>0.53</td>\n      <td>0:08:28</td>\n      <td>keypad</td>\n      <td>False</td>\n      <td>NaN</td>\n      <td>NaN</td>\n      <td>NaN</td>\n      <td>NaN</td>\n      <td>NaN</td>\n    </tr>\n    <tr>\n      <th>3454</th>\n      <td>4742787.0</td>\n      <td>Subscriber</td>\n      <td>NaN</td>\n      <td>45.516457</td>\n      <td>-122.629573</td>\n      <td>10/5/2017</td>\n      <td>12:04</td>\n      <td>NaN</td>\n      <td>45.516581</td>\n      <td>-122.621751</td>\n      <td>...</td>\n      <td>0657 biketown</td>\n      <td>0.46</td>\n      <td>1:14:05</td>\n      <td>keypad</td>\n      <td>False</td>\n      <td>NaN</td>\n      <td>NaN</td>\n      <td>NaN</td>\n      <td>NaN</td>\n      <td>NaN</td>\n    </tr>\n    <tr>\n      <th>8896</th>\n      <td>4802039.0</td>\n      <td>Subscriber</td>\n      <td>NaN</td>\n      <td>45.516581</td>\n      <td>-122.621751</td>\n      <td>10/10/2017</td>\n      <td>17:30</td>\n      <td>SE Taylor at Chavez</td>\n      <td>45.514975</td>\n      <td>-122.623157</td>\n      <td>...</td>\n      <td>0657 biketown</td>\n      <td>0.13</td>\n      <td>0:02:34</td>\n      <td>keypad</td>\n      <td>False</td>\n      <td>NaN</td>\n      <td>NaN</td>\n      <td>NaN</td>\n      <td>NaN</td>\n      <td>NaN</td>\n    </tr>\n    <tr>\n      <th>9604</th>\n      <td>4814953.0</td>\n      <td>Subscriber</td>\n      <td>SE Taylor at Chavez</td>\n      <td>45.514975</td>\n      <td>-122.623157</td>\n      <td>10/11/2017</td>\n      <td>20:33</td>\n      <td>NaN</td>\n      <td>45.512049</td>\n      <td>-122.622839</td>\n      <td>...</td>\n      <td>0657 biketown</td>\n      <td>0.22</td>\n      <td>0:03:29</td>\n      <td>keypad</td>\n      <td>False</td>\n      <td>NaN</td>\n      <td>NaN</td>\n      <td>NaN</td>\n      <td>NaN</td>\n      <td>NaN</td>\n    </tr>\n    <tr>\n      <th>...</th>\n      <td>...</td>\n      <td>...</td>\n      <td>...</td>\n      <td>...</td>\n      <td>...</td>\n      <td>...</td>\n      <td>...</td>\n      <td>...</td>\n      <td>...</td>\n      <td>...</td>\n      <td>...</td>\n      <td>...</td>\n      <td>...</td>\n      <td>...</td>\n      <td>...</td>\n      <td>...</td>\n      <td>...</td>\n      <td>...</td>\n      <td>...</td>\n      <td>...</td>\n      <td>...</td>\n    </tr>\n    <tr>\n      <th>1287150</th>\n      <td>4599411.0</td>\n      <td>Casual</td>\n      <td>SW 5th at Morrison</td>\n      <td>45.518895</td>\n      <td>-122.677406</td>\n      <td>9/24/2017</td>\n      <td>14:27</td>\n      <td>SW Salmon at Waterfront Park</td>\n      <td>45.515568</td>\n      <td>-122.673892</td>\n      <td>...</td>\n      <td>0657 biketown</td>\n      <td>2.38</td>\n      <td>0:57:32</td>\n      <td>keypad</td>\n      <td>False</td>\n      <td>NaN</td>\n      <td>NaN</td>\n      <td>NaN</td>\n      <td>NaN</td>\n      <td>NaN</td>\n    </tr>\n    <tr>\n      <th>1287693</th>\n      <td>4602409.0</td>\n      <td>Casual</td>\n      <td>SW Salmon at Waterfront Park</td>\n      <td>45.515568</td>\n      <td>-122.673892</td>\n      <td>9/24/2017</td>\n      <td>19:34</td>\n      <td>SW Salmon at Waterfront Park</td>\n      <td>45.515568</td>\n      <td>-122.673892</td>\n      <td>...</td>\n      <td>0657 biketown</td>\n      <td>1.54</td>\n      <td>0:24:17</td>\n      <td>keypad</td>\n      <td>False</td>\n      <td>NaN</td>\n      <td>NaN</td>\n      <td>NaN</td>\n      <td>NaN</td>\n      <td>NaN</td>\n    </tr>\n    <tr>\n      <th>1287761</th>\n      <td>4602701.0</td>\n      <td>Casual</td>\n      <td>SW Salmon at Waterfront Park</td>\n      <td>45.515568</td>\n      <td>-122.673892</td>\n      <td>9/24/2017</td>\n      <td>20:31</td>\n      <td>SW Salmon at Waterfront Park</td>\n      <td>45.515568</td>\n      <td>-122.673892</td>\n      <td>...</td>\n      <td>0657 biketown</td>\n      <td>6.58</td>\n      <td>1:23:05</td>\n      <td>keypad</td>\n      <td>False</td>\n      <td>NaN</td>\n      <td>NaN</td>\n      <td>NaN</td>\n      <td>NaN</td>\n      <td>NaN</td>\n    </tr>\n    <tr>\n      <th>1288697</th>\n      <td>4617651.0</td>\n      <td>Subscriber</td>\n      <td>SW River at Montgomery</td>\n      <td>45.509103</td>\n      <td>-122.673517</td>\n      <td>9/25/2017</td>\n      <td>23:17</td>\n      <td>SW 3rd at Morrison</td>\n      <td>45.518039</td>\n      <td>-122.675582</td>\n      <td>...</td>\n      <td>0657 biketown</td>\n      <td>0.88</td>\n      <td>0:27:12</td>\n      <td>keypad</td>\n      <td>False</td>\n      <td>NaN</td>\n      <td>NaN</td>\n      <td>NaN</td>\n      <td>NaN</td>\n      <td>NaN</td>\n    </tr>\n    <tr>\n      <th>1293546</th>\n      <td>4684012.0</td>\n      <td>Casual</td>\n      <td>SW 3rd at Morrison</td>\n      <td>45.518039</td>\n      <td>-122.675582</td>\n      <td>9/30/2017</td>\n      <td>17:07</td>\n      <td>SE 9th at Belmont</td>\n      <td>45.516333</td>\n      <td>-122.656632</td>\n      <td>...</td>\n      <td>0657 biketown</td>\n      <td>1.52</td>\n      <td>0:11:36</td>\n      <td>keypad</td>\n      <td>False</td>\n      <td>NaN</td>\n      <td>NaN</td>\n      <td>NaN</td>\n      <td>NaN</td>\n      <td>NaN</td>\n    </tr>\n  </tbody>\n</table>\n<p>1256 rows × 24 columns</p>\n</div>"
     },
     "execution_count": 97,
     "metadata": {},
     "output_type": "execute_result"
    }
   ],
   "source": [
    "combined_df[combined_df['BikeName'] == \"0657 biketown\"]"
   ],
   "metadata": {
    "collapsed": false,
    "ExecuteTime": {
     "end_time": "2024-03-18T17:11:18.696587Z",
     "start_time": "2024-03-18T17:11:18.667789Z"
    }
   },
   "id": "3b4ea9cf76145cc4",
   "execution_count": 97
  },
  {
   "cell_type": "code",
   "outputs": [
    {
     "data": {
      "text/plain": "BikeName\n0001 biketown       1\n0001 xm biketown    1\n0002 biketown       1\n0003 biketown       1\n0003 xm biketown    1\n                   ..\nxc 0424 biketown    1\nxc 0603 biketown    1\nxc 0610 biketown    1\nxc 0655 biketown    1\nxm 0683 biketown    1\nName: BikeID, Length: 2298, dtype: int64"
     },
     "execution_count": 96,
     "metadata": {},
     "output_type": "execute_result"
    }
   ],
   "source": [
    "combined_df.groupby(['BikeName'])['BikeID'].nunique()"
   ],
   "metadata": {
    "collapsed": false,
    "ExecuteTime": {
     "end_time": "2024-03-18T17:10:52.462824Z",
     "start_time": "2024-03-18T17:10:52.416730Z"
    }
   },
   "id": "d5f11dcc3280684c",
   "execution_count": 96
  },
  {
   "cell_type": "code",
   "outputs": [
    {
     "data": {
      "text/plain": "BikeID\n5986.0     2\n5987.0     2\n5988.0     3\n5989.0     2\n5990.0     1\n          ..\n30041.0    2\n33605.0    1\n34802.0    1\n35477.0    2\n35537.0    2\nName: BikeName, Length: 1044, dtype: int64"
     },
     "execution_count": 95,
     "metadata": {},
     "output_type": "execute_result"
    }
   ],
   "source": [
    "combined_df.groupby(['BikeID'])['BikeName'].nunique()"
   ],
   "metadata": {
    "collapsed": false,
    "ExecuteTime": {
     "end_time": "2024-03-18T17:10:36.327974Z",
     "start_time": "2024-03-18T17:10:36.171795Z"
    }
   },
   "id": "5ec6dc82405d340e",
   "execution_count": 95
  },
  {
   "cell_type": "code",
   "outputs": [
    {
     "data": {
      "text/plain": "Empty DataFrame\nColumns: [RouteID, PaymentPlan, StartHub, StartLatitude, StartLongitude, StartDate, StartTime, EndHub, EndLatitude, EndLongitude, EndDate, EndTime, TripType, BikeID, BikeName, Distance_Miles, Duration, RentalAccessPath, MultipleRental, Start_Latitude, Start_Longitude, End_Latitude, End_Longitude, Distance_Miles_]\nIndex: []\n\n[0 rows x 24 columns]",
      "text/html": "<div>\n<style scoped>\n    .dataframe tbody tr th:only-of-type {\n        vertical-align: middle;\n    }\n\n    .dataframe tbody tr th {\n        vertical-align: top;\n    }\n\n    .dataframe thead th {\n        text-align: right;\n    }\n</style>\n<table border=\"1\" class=\"dataframe\">\n  <thead>\n    <tr style=\"text-align: right;\">\n      <th></th>\n      <th>RouteID</th>\n      <th>PaymentPlan</th>\n      <th>StartHub</th>\n      <th>StartLatitude</th>\n      <th>StartLongitude</th>\n      <th>StartDate</th>\n      <th>StartTime</th>\n      <th>EndHub</th>\n      <th>EndLatitude</th>\n      <th>EndLongitude</th>\n      <th>...</th>\n      <th>BikeName</th>\n      <th>Distance_Miles</th>\n      <th>Duration</th>\n      <th>RentalAccessPath</th>\n      <th>MultipleRental</th>\n      <th>Start_Latitude</th>\n      <th>Start_Longitude</th>\n      <th>End_Latitude</th>\n      <th>End_Longitude</th>\n      <th>Distance_Miles_</th>\n    </tr>\n  </thead>\n  <tbody>\n  </tbody>\n</table>\n<p>0 rows × 24 columns</p>\n</div>"
     },
     "execution_count": 68,
     "metadata": {},
     "output_type": "execute_result"
    }
   ],
   "source": [
    "combined_df[combined_df['BikeName'].astype(str) == \"0006 biketown\"]"
   ],
   "metadata": {
    "collapsed": false,
    "ExecuteTime": {
     "end_time": "2024-03-18T16:57:51.822491Z",
     "start_time": "2024-03-18T16:57:51.813820Z"
    }
   },
   "id": "5698feeb43471940",
   "execution_count": 68
  },
  {
   "cell_type": "code",
   "outputs": [
    {
     "data": {
      "text/plain": "0          False\n1          False\n2          False\n3          False\n4          False\n           ...  \n1294442    False\n1294443    False\n1294444    False\n1294445    False\n1294446    False\nName: BikeName, Length: 1294447, dtype: bool"
     },
     "execution_count": 84,
     "metadata": {},
     "output_type": "execute_result"
    }
   ],
   "source": [
    "combined_df['BikeName'].str.lower().str.strip() == \"0006 biketown\""
   ],
   "metadata": {
    "collapsed": false,
    "ExecuteTime": {
     "end_time": "2024-03-18T17:04:24.177966Z",
     "start_time": "2024-03-18T17:04:23.901061Z"
    }
   },
   "id": "6b8cee7ffb44b014",
   "execution_count": 84
  },
  {
   "cell_type": "code",
   "outputs": [],
   "source": [
    "unique_strings = set()\n",
    "\n",
    "for string in combined_df['BikeName']:\n",
    "    for substr in str(string).split(\" \"):\n",
    "        try:\n",
    "            int(substr)\n",
    "        except ValueError:\n",
    "            unique_strings.add(substr)"
   ],
   "metadata": {
    "collapsed": false,
    "ExecuteTime": {
     "end_time": "2024-03-18T17:21:21.563365Z",
     "start_time": "2024-03-18T17:21:19.588183Z"
    }
   },
   "id": "3aae5e4fe4d68cd9",
   "execution_count": 130
  },
  {
   "cell_type": "code",
   "outputs": [
    {
     "data": {
      "text/plain": "{'',\n '(bike',\n '(lost',\n '(new)',\n '(quarantine-do',\n '-',\n '--',\n '-quarantine',\n '0253mss',\n '50th',\n 'ability',\n 'air',\n 'aix',\n 'alter',\n 'american',\n 'ascend',\n 'at',\n 'betrue',\n 'bike',\n 'bike,',\n 'biketown',\n 'biketown,',\n 'black',\n 'blazers',\n 'broken',\n 'bunyan',\n 'but',\n 'challenge',\n 'city',\n 'colorful',\n 'controller',\n 'custody',\n 'cycling',\n 'damaged)',\n 'design',\n \"explorin'\",\n 'explorinâ€™',\n 'explorin’',\n 'explorin‰ûª',\n 'for',\n 'found',\n 'hbo',\n 'heritage',\n 'history',\n 'hq',\n 'in',\n 'latinx',\n 'lck',\n 'life',\n 'lightbike',\n 'likely',\n 'lost',\n 'lst',\n 'max',\n 'month',\n 'mss',\n 'n',\n 'nan',\n 'native',\n 'ne',\n 'nike',\n 'not',\n 'nw',\n 'on',\n 'out',\n 'parts',\n 'paul',\n 'pbot',\n 'pdx',\n 'police',\n 'portland',\n 'possible',\n 'prt',\n 'qrt',\n 'quarantine',\n 'recon',\n 'reconnw',\n 'rewrap',\n 'rfs',\n 'rider',\n 'rip',\n 'rma',\n 'rmad',\n 'rvr',\n 'safari',\n 'se',\n 'service',\n 'shop',\n 'sneaker',\n 'stl',\n 'stl/lck',\n 'stolen',\n 'stolen)',\n 'sw',\n 'trainer',\n 'veterans',\n 'waiting',\n 'wanderer',\n 'waterfront',\n \"women's\",\n 'womenâ€™s',\n 'women’s',\n 'wrap',\n 'wrapped',\n 'xc',\n 'xc/',\n 'xcm',\n 'xm',\n 'xmnative'}"
     },
     "execution_count": 131,
     "metadata": {},
     "output_type": "execute_result"
    }
   ],
   "source": [
    "unique_strings"
   ],
   "metadata": {
    "collapsed": false,
    "ExecuteTime": {
     "end_time": "2024-03-18T17:21:21.581376Z",
     "start_time": "2024-03-18T17:21:21.562388Z"
    }
   },
   "id": "3ceef48141434256",
   "execution_count": 131
  },
  {
   "cell_type": "code",
   "outputs": [],
   "source": [],
   "metadata": {
    "collapsed": false,
    "ExecuteTime": {
     "end_time": "2024-03-18T17:13:42.827183Z",
     "start_time": "2024-03-18T17:13:42.683640Z"
    }
   },
   "id": "65615aadbfbb6c59",
   "execution_count": 104
  },
  {
   "cell_type": "code",
   "outputs": [],
   "source": [],
   "metadata": {
    "collapsed": false
   },
   "id": "198c8b095ff31762"
  }
 ],
 "metadata": {
  "kernelspec": {
   "display_name": "Python 3",
   "language": "python",
   "name": "python3"
  },
  "language_info": {
   "codemirror_mode": {
    "name": "ipython",
    "version": 2
   },
   "file_extension": ".py",
   "mimetype": "text/x-python",
   "name": "python",
   "nbconvert_exporter": "python",
   "pygments_lexer": "ipython2",
   "version": "2.7.6"
  }
 },
 "nbformat": 4,
 "nbformat_minor": 5
}
