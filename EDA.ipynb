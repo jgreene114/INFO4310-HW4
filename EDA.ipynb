{
 "cells": [
  {
   "cell_type": "code",
   "execution_count": 5,
   "id": "initial_id",
   "metadata": {
    "collapsed": true,
    "ExecuteTime": {
     "end_time": "2024-03-18T15:46:47.360402Z",
     "start_time": "2024-03-18T15:46:47.355783Z"
    }
   },
   "outputs": [],
   "source": [
    "import json\n",
    "import pandas as pd\n",
    "from pathlib import Path"
   ]
  },
  {
   "cell_type": "code",
   "outputs": [
    {
     "name": "stdout",
     "output_type": "stream",
     "text": [
      "data/Biketown Raw Data/2017_10.csv\n",
      "data/Biketown Raw Data/2017_04.csv\n",
      "data/Biketown Raw Data/2019_01.csv\n",
      "data/Biketown Raw Data/2017_05.csv\n",
      "data/Biketown Raw Data/2017_11.csv\n",
      "data/Biketown Raw Data/2017_07.csv\n",
      "data/Biketown Raw Data/2019_02.csv\n",
      "data/Biketown Raw Data/2019_03.csv\n",
      "data/Biketown Raw Data/2017_12.csv\n",
      "data/Biketown Raw Data/2017_06.csv\n",
      "data/Biketown Raw Data/2019_07.csv\n",
      "data/Biketown Raw Data/2017_02.csv\n",
      "data/Biketown Raw Data/2017_03.csv\n"
     ]
    },
    {
     "name": "stderr",
     "output_type": "stream",
     "text": [
      "/var/folders/_z/q4gsch7n2jn4pky14jnx_2p80000gn/T/ipykernel_69993/861217229.py:5: DtypeWarning: Columns (12) have mixed types. Specify dtype option on import or set low_memory=False.\n",
      "  dfs.append(pd.read_csv(file_path))\n"
     ]
    },
    {
     "name": "stdout",
     "output_type": "stream",
     "text": [
      "data/Biketown Raw Data/2019_06.csv\n",
      "data/Biketown Raw Data/2019_12.csv\n",
      "data/Biketown Raw Data/2019_04.csv\n",
      "data/Biketown Raw Data/2019_10.csv\n",
      "data/Biketown Raw Data/2017_01.csv\n",
      "data/Biketown Raw Data/2019_11.csv\n",
      "data/Biketown Raw Data/2019_05.csv\n",
      "data/Biketown Raw Data/2018_09.csv\n",
      "data/Biketown Raw Data/2018_08.csv\n",
      "data/Biketown Raw Data/2016_09.csv\n",
      "data/Biketown Raw Data/2020_08.csv\n",
      "data/Biketown Raw Data/2016_08.csv\n",
      "data/Biketown Raw Data/2018_03.csv\n",
      "data/Biketown Raw Data/2016_12.csv\n",
      "data/Biketown Raw Data/2020_07.csv\n",
      "data/Biketown Raw Data/2020_06.csv\n",
      "data/Biketown Raw Data/2016_07.csv\n",
      "data/Biketown Raw Data/2018_02.csv\n",
      "data/Biketown Raw Data/2016_11.csv\n",
      "data/Biketown Raw Data/2020_04.csv\n",
      "data/Biketown Raw Data/2020_05.csv\n",
      "data/Biketown Raw Data/2016_10.csv\n",
      "data/Biketown Raw Data/2018_01.csv\n",
      "data/Biketown Raw Data/2018_05.csv\n",
      "data/Biketown Raw Data/2018_11.csv\n",
      "data/Biketown Raw Data/2020_01.csv\n",
      "data/Biketown Raw Data/2018_10.csv\n",
      "data/Biketown Raw Data/2018_04.csv\n",
      "data/Biketown Raw Data/2018_12.csv\n",
      "data/Biketown Raw Data/2018_06.csv\n",
      "data/Biketown Raw Data/2020_02.csv\n",
      "data/Biketown Raw Data/2020_03.csv\n",
      "data/Biketown Raw Data/2018_07.csv\n",
      "data/Biketown Raw Data/2019_08.csv\n",
      "data/Biketown Raw Data/2019_09.csv\n",
      "data/Biketown Raw Data/2017_08.csv\n",
      "data/Biketown Raw Data/2017_09.csv\n"
     ]
    },
    {
     "name": "stderr",
     "output_type": "stream",
     "text": [
      "/var/folders/_z/q4gsch7n2jn4pky14jnx_2p80000gn/T/ipykernel_69993/861217229.py:5: DtypeWarning: Columns (18) have mixed types. Specify dtype option on import or set low_memory=False.\n",
      "  dfs.append(pd.read_csv(file_path))\n",
      "/var/folders/_z/q4gsch7n2jn4pky14jnx_2p80000gn/T/ipykernel_69993/861217229.py:5: DtypeWarning: Columns (12,18) have mixed types. Specify dtype option on import or set low_memory=False.\n",
      "  dfs.append(pd.read_csv(file_path))\n"
     ]
    }
   ],
   "source": [
    "directory = Path(\"data/Biketown Raw Data\")\n",
    "dfs = []\n",
    "for file_path in directory.rglob('*'):\n",
    "    print(file_path)\n",
    "    dfs.append(pd.read_csv(file_path))    \n"
   ],
   "metadata": {
    "collapsed": false,
    "ExecuteTime": {
     "end_time": "2024-03-18T15:58:26.802996Z",
     "start_time": "2024-03-18T15:58:24.221679Z"
    }
   },
   "id": "656cbd52059c1a3c",
   "execution_count": 18
  },
  {
   "cell_type": "code",
   "outputs": [],
   "source": [
    "path = \"data/Biketown Raw Data/2017_03.csv\"\n",
    "df = pd.read_csv(path)"
   ],
   "metadata": {
    "collapsed": false,
    "ExecuteTime": {
     "end_time": "2024-03-18T15:58:44.785304Z",
     "start_time": "2024-03-18T15:58:44.747239Z"
    }
   },
   "id": "271ba73c63aba730",
   "execution_count": 19
  },
  {
   "cell_type": "code",
   "outputs": [
    {
     "data": {
      "text/plain": "'PaymentPlan'"
     },
     "execution_count": 32,
     "metadata": {},
     "output_type": "execute_result"
    }
   ],
   "source": [],
   "metadata": {
    "collapsed": false,
    "ExecuteTime": {
     "end_time": "2024-03-18T16:34:32.737714Z",
     "start_time": "2024-03-18T16:34:32.728463Z"
    }
   },
   "id": "e382f19570eea413",
   "execution_count": 32
  },
  {
   "cell_type": "code",
   "outputs": [
    {
     "data": {
      "text/plain": "('EndTime', dtype('O'))"
     },
     "execution_count": 36,
     "metadata": {},
     "output_type": "execute_result"
    }
   ],
   "source": [
    "i = 11\n",
    "df.columns[i], df[df.columns[i]].dtype"
   ],
   "metadata": {
    "collapsed": false,
    "ExecuteTime": {
     "end_time": "2024-03-18T16:35:04.292526Z",
     "start_time": "2024-03-18T16:35:04.289179Z"
    }
   },
   "id": "8568101912d3ee8b",
   "execution_count": 36
  },
  {
   "cell_type": "code",
   "outputs": [
    {
     "name": "stderr",
     "output_type": "stream",
     "text": [
      "/var/folders/_z/q4gsch7n2jn4pky14jnx_2p80000gn/T/ipykernel_69993/944572260.py:2: DtypeWarning: Columns (12) have mixed types. Specify dtype option on import or set low_memory=False.\n",
      "  dfs = [pd.read_csv(file_path) for file_path in directory.rglob('*')]\n",
      "/var/folders/_z/q4gsch7n2jn4pky14jnx_2p80000gn/T/ipykernel_69993/944572260.py:2: DtypeWarning: Columns (18) have mixed types. Specify dtype option on import or set low_memory=False.\n",
      "  dfs = [pd.read_csv(file_path) for file_path in directory.rglob('*')]\n",
      "/var/folders/_z/q4gsch7n2jn4pky14jnx_2p80000gn/T/ipykernel_69993/944572260.py:2: DtypeWarning: Columns (12,18) have mixed types. Specify dtype option on import or set low_memory=False.\n",
      "  dfs = [pd.read_csv(file_path) for file_path in directory.rglob('*')]\n"
     ]
    }
   ],
   "source": [
    "directory = Path(\"data/Biketown Raw Data\")\n",
    "dfs = [pd.read_csv(file_path) for file_path in directory.rglob('*')]\n",
    "combined_df = pd.concat(dfs, ignore_index=True)\n",
    "combined_df['BikeName'] = combined_df['BikeName'].str.lower().str.strip()"
   ],
   "metadata": {
    "collapsed": false,
    "ExecuteTime": {
     "end_time": "2024-03-18T17:04:46.613550Z",
     "start_time": "2024-03-18T17:04:43.520838Z"
    }
   },
   "id": "90de0c21fdd41928",
   "execution_count": 85
  },
  {
   "cell_type": "code",
   "outputs": [
    {
     "data": {
      "text/plain": "           RouteID PaymentPlan                               StartHub  \\\n0        4686114.0  Subscriber                     NW 22nd at LoveJoy   \n1        4686153.0      Casual                                    NaN   \n2        4686156.0  Subscriber                                    NaN   \n3        4686164.0      Casual  SW Morrison at Pioneer Courthouse Sq.   \n4        4686166.0  Subscriber                                    NaN   \n...            ...         ...                                    ...   \n1294442        NaN         NaN                                    NaN   \n1294443        NaN         NaN                                    NaN   \n1294444        NaN         NaN                                    NaN   \n1294445        NaN         NaN                                    NaN   \n1294446        NaN         NaN                                    NaN   \n\n         StartLatitude  StartLongitude  StartDate StartTime  \\\n0            45.529760     -122.696643  10/1/2017      0:05   \n1            45.522941     -122.688602  10/1/2017      0:17   \n2            45.521622     -122.682415  10/1/2017      0:18   \n3            45.519289     -122.679249  10/1/2017      0:21   \n4            45.531477     -122.684482  10/1/2017      0:22   \n...                ...             ...        ...       ...   \n1294442            NaN             NaN        NaN       NaN   \n1294443            NaN             NaN        NaN       NaN   \n1294444            NaN             NaN        NaN       NaN   \n1294445            NaN             NaN        NaN       NaN   \n1294446            NaN             NaN        NaN       NaN   \n\n                         EndHub  EndLatitude  EndLongitude  ...  \\\n0        NW Broadway at Everett    45.525079   -122.677556  ...   \n1              SW 3rd at Ankeny    45.522479   -122.673297  ...   \n2           SW Morrison at 18th    45.521960   -122.689677  ...   \n3           NW 13th at Marshall    45.530804   -122.684423  ...   \n4                           NaN    45.536071   -122.685271  ...   \n...                         ...          ...           ...  ...   \n1294442                     NaN          NaN           NaN  ...   \n1294443                     NaN          NaN           NaN  ...   \n1294444                     NaN          NaN           NaN  ...   \n1294445                     NaN          NaN           NaN  ...   \n1294446                     NaN          NaN           NaN  ...   \n\n              BikeName Distance_Miles Duration  RentalAccessPath  \\\n0        0642 biketown           1.51  0:13:04            keypad   \n1        0057 biketown           0.78  0:05:11            keypad   \n2        0026 biketown           0.43  0:03:58            keypad   \n3        0819 biketown           1.02  0:11:30            keypad   \n4        0388 biketown           0.93  0:13:40  keypad_rfid_card   \n...                ...            ...      ...               ...   \n1294442            NaN            NaN      NaN               NaN   \n1294443            NaN            NaN      NaN               NaN   \n1294444            NaN            NaN      NaN               NaN   \n1294445            NaN            NaN      NaN               NaN   \n1294446            NaN            NaN      NaN               NaN   \n\n        MultipleRental  Start_Latitude Start_Longitude End_Latitude  \\\n0                False             NaN             NaN          NaN   \n1                False             NaN             NaN          NaN   \n2                False             NaN             NaN          NaN   \n3                False             NaN             NaN          NaN   \n4                False             NaN             NaN          NaN   \n...                ...             ...             ...          ...   \n1294442            NaN             NaN             NaN          NaN   \n1294443            NaN             NaN             NaN          NaN   \n1294444            NaN             NaN             NaN          NaN   \n1294445            NaN             NaN             NaN          NaN   \n1294446            NaN             NaN             NaN          NaN   \n\n        End_Longitude  Distance_Miles_  \n0                 NaN              NaN  \n1                 NaN              NaN  \n2                 NaN              NaN  \n3                 NaN              NaN  \n4                 NaN              NaN  \n...               ...              ...  \n1294442           NaN              NaN  \n1294443           NaN              NaN  \n1294444           NaN              NaN  \n1294445           NaN              NaN  \n1294446           NaN              NaN  \n\n[1294447 rows x 24 columns]",
      "text/html": "<div>\n<style scoped>\n    .dataframe tbody tr th:only-of-type {\n        vertical-align: middle;\n    }\n\n    .dataframe tbody tr th {\n        vertical-align: top;\n    }\n\n    .dataframe thead th {\n        text-align: right;\n    }\n</style>\n<table border=\"1\" class=\"dataframe\">\n  <thead>\n    <tr style=\"text-align: right;\">\n      <th></th>\n      <th>RouteID</th>\n      <th>PaymentPlan</th>\n      <th>StartHub</th>\n      <th>StartLatitude</th>\n      <th>StartLongitude</th>\n      <th>StartDate</th>\n      <th>StartTime</th>\n      <th>EndHub</th>\n      <th>EndLatitude</th>\n      <th>EndLongitude</th>\n      <th>...</th>\n      <th>BikeName</th>\n      <th>Distance_Miles</th>\n      <th>Duration</th>\n      <th>RentalAccessPath</th>\n      <th>MultipleRental</th>\n      <th>Start_Latitude</th>\n      <th>Start_Longitude</th>\n      <th>End_Latitude</th>\n      <th>End_Longitude</th>\n      <th>Distance_Miles_</th>\n    </tr>\n  </thead>\n  <tbody>\n    <tr>\n      <th>0</th>\n      <td>4686114.0</td>\n      <td>Subscriber</td>\n      <td>NW 22nd at LoveJoy</td>\n      <td>45.529760</td>\n      <td>-122.696643</td>\n      <td>10/1/2017</td>\n      <td>0:05</td>\n      <td>NW Broadway at Everett</td>\n      <td>45.525079</td>\n      <td>-122.677556</td>\n      <td>...</td>\n      <td>0642 biketown</td>\n      <td>1.51</td>\n      <td>0:13:04</td>\n      <td>keypad</td>\n      <td>False</td>\n      <td>NaN</td>\n      <td>NaN</td>\n      <td>NaN</td>\n      <td>NaN</td>\n      <td>NaN</td>\n    </tr>\n    <tr>\n      <th>1</th>\n      <td>4686153.0</td>\n      <td>Casual</td>\n      <td>NaN</td>\n      <td>45.522941</td>\n      <td>-122.688602</td>\n      <td>10/1/2017</td>\n      <td>0:17</td>\n      <td>SW 3rd at Ankeny</td>\n      <td>45.522479</td>\n      <td>-122.673297</td>\n      <td>...</td>\n      <td>0057 biketown</td>\n      <td>0.78</td>\n      <td>0:05:11</td>\n      <td>keypad</td>\n      <td>False</td>\n      <td>NaN</td>\n      <td>NaN</td>\n      <td>NaN</td>\n      <td>NaN</td>\n      <td>NaN</td>\n    </tr>\n    <tr>\n      <th>2</th>\n      <td>4686156.0</td>\n      <td>Subscriber</td>\n      <td>NaN</td>\n      <td>45.521622</td>\n      <td>-122.682415</td>\n      <td>10/1/2017</td>\n      <td>0:18</td>\n      <td>SW Morrison at 18th</td>\n      <td>45.521960</td>\n      <td>-122.689677</td>\n      <td>...</td>\n      <td>0026 biketown</td>\n      <td>0.43</td>\n      <td>0:03:58</td>\n      <td>keypad</td>\n      <td>False</td>\n      <td>NaN</td>\n      <td>NaN</td>\n      <td>NaN</td>\n      <td>NaN</td>\n      <td>NaN</td>\n    </tr>\n    <tr>\n      <th>3</th>\n      <td>4686164.0</td>\n      <td>Casual</td>\n      <td>SW Morrison at Pioneer Courthouse Sq.</td>\n      <td>45.519289</td>\n      <td>-122.679249</td>\n      <td>10/1/2017</td>\n      <td>0:21</td>\n      <td>NW 13th at Marshall</td>\n      <td>45.530804</td>\n      <td>-122.684423</td>\n      <td>...</td>\n      <td>0819 biketown</td>\n      <td>1.02</td>\n      <td>0:11:30</td>\n      <td>keypad</td>\n      <td>False</td>\n      <td>NaN</td>\n      <td>NaN</td>\n      <td>NaN</td>\n      <td>NaN</td>\n      <td>NaN</td>\n    </tr>\n    <tr>\n      <th>4</th>\n      <td>4686166.0</td>\n      <td>Subscriber</td>\n      <td>NaN</td>\n      <td>45.531477</td>\n      <td>-122.684482</td>\n      <td>10/1/2017</td>\n      <td>0:22</td>\n      <td>NaN</td>\n      <td>45.536071</td>\n      <td>-122.685271</td>\n      <td>...</td>\n      <td>0388 biketown</td>\n      <td>0.93</td>\n      <td>0:13:40</td>\n      <td>keypad_rfid_card</td>\n      <td>False</td>\n      <td>NaN</td>\n      <td>NaN</td>\n      <td>NaN</td>\n      <td>NaN</td>\n      <td>NaN</td>\n    </tr>\n    <tr>\n      <th>...</th>\n      <td>...</td>\n      <td>...</td>\n      <td>...</td>\n      <td>...</td>\n      <td>...</td>\n      <td>...</td>\n      <td>...</td>\n      <td>...</td>\n      <td>...</td>\n      <td>...</td>\n      <td>...</td>\n      <td>...</td>\n      <td>...</td>\n      <td>...</td>\n      <td>...</td>\n      <td>...</td>\n      <td>...</td>\n      <td>...</td>\n      <td>...</td>\n      <td>...</td>\n      <td>...</td>\n    </tr>\n    <tr>\n      <th>1294442</th>\n      <td>NaN</td>\n      <td>NaN</td>\n      <td>NaN</td>\n      <td>NaN</td>\n      <td>NaN</td>\n      <td>NaN</td>\n      <td>NaN</td>\n      <td>NaN</td>\n      <td>NaN</td>\n      <td>NaN</td>\n      <td>...</td>\n      <td>NaN</td>\n      <td>NaN</td>\n      <td>NaN</td>\n      <td>NaN</td>\n      <td>NaN</td>\n      <td>NaN</td>\n      <td>NaN</td>\n      <td>NaN</td>\n      <td>NaN</td>\n      <td>NaN</td>\n    </tr>\n    <tr>\n      <th>1294443</th>\n      <td>NaN</td>\n      <td>NaN</td>\n      <td>NaN</td>\n      <td>NaN</td>\n      <td>NaN</td>\n      <td>NaN</td>\n      <td>NaN</td>\n      <td>NaN</td>\n      <td>NaN</td>\n      <td>NaN</td>\n      <td>...</td>\n      <td>NaN</td>\n      <td>NaN</td>\n      <td>NaN</td>\n      <td>NaN</td>\n      <td>NaN</td>\n      <td>NaN</td>\n      <td>NaN</td>\n      <td>NaN</td>\n      <td>NaN</td>\n      <td>NaN</td>\n    </tr>\n    <tr>\n      <th>1294444</th>\n      <td>NaN</td>\n      <td>NaN</td>\n      <td>NaN</td>\n      <td>NaN</td>\n      <td>NaN</td>\n      <td>NaN</td>\n      <td>NaN</td>\n      <td>NaN</td>\n      <td>NaN</td>\n      <td>NaN</td>\n      <td>...</td>\n      <td>NaN</td>\n      <td>NaN</td>\n      <td>NaN</td>\n      <td>NaN</td>\n      <td>NaN</td>\n      <td>NaN</td>\n      <td>NaN</td>\n      <td>NaN</td>\n      <td>NaN</td>\n      <td>NaN</td>\n    </tr>\n    <tr>\n      <th>1294445</th>\n      <td>NaN</td>\n      <td>NaN</td>\n      <td>NaN</td>\n      <td>NaN</td>\n      <td>NaN</td>\n      <td>NaN</td>\n      <td>NaN</td>\n      <td>NaN</td>\n      <td>NaN</td>\n      <td>NaN</td>\n      <td>...</td>\n      <td>NaN</td>\n      <td>NaN</td>\n      <td>NaN</td>\n      <td>NaN</td>\n      <td>NaN</td>\n      <td>NaN</td>\n      <td>NaN</td>\n      <td>NaN</td>\n      <td>NaN</td>\n      <td>NaN</td>\n    </tr>\n    <tr>\n      <th>1294446</th>\n      <td>NaN</td>\n      <td>NaN</td>\n      <td>NaN</td>\n      <td>NaN</td>\n      <td>NaN</td>\n      <td>NaN</td>\n      <td>NaN</td>\n      <td>NaN</td>\n      <td>NaN</td>\n      <td>NaN</td>\n      <td>...</td>\n      <td>NaN</td>\n      <td>NaN</td>\n      <td>NaN</td>\n      <td>NaN</td>\n      <td>NaN</td>\n      <td>NaN</td>\n      <td>NaN</td>\n      <td>NaN</td>\n      <td>NaN</td>\n      <td>NaN</td>\n    </tr>\n  </tbody>\n</table>\n<p>1294447 rows × 24 columns</p>\n</div>"
     },
     "execution_count": 86,
     "metadata": {},
     "output_type": "execute_result"
    }
   ],
   "source": [
    "combined_df"
   ],
   "metadata": {
    "collapsed": false,
    "ExecuteTime": {
     "end_time": "2024-03-18T17:04:55.031892Z",
     "start_time": "2024-03-18T17:04:54.138447Z"
    }
   },
   "id": "2ec8589e52a09472",
   "execution_count": 86
  },
  {
   "cell_type": "code",
   "outputs": [
    {
     "ename": "AttributeError",
     "evalue": "Can only use .str accessor with string values!",
     "output_type": "error",
     "traceback": [
      "\u001B[0;31m---------------------------------------------------------------------------\u001B[0m",
      "\u001B[0;31mAttributeError\u001B[0m                            Traceback (most recent call last)",
      "Cell \u001B[0;32mIn[58], line 2\u001B[0m\n\u001B[1;32m      1\u001B[0m combined_df[\u001B[38;5;124m'\u001B[39m\u001B[38;5;124mBikeName\u001B[39m\u001B[38;5;124m'\u001B[39m] \u001B[38;5;241m=\u001B[39m combined_df[\u001B[38;5;124m'\u001B[39m\u001B[38;5;124mBikeName\u001B[39m\u001B[38;5;124m'\u001B[39m]\u001B[38;5;241m.\u001B[39mstr\u001B[38;5;241m.\u001B[39mstrip()\n\u001B[0;32m----> 2\u001B[0m combined_df[\u001B[38;5;124m'\u001B[39m\u001B[38;5;124mBikeID\u001B[39m\u001B[38;5;124m'\u001B[39m] \u001B[38;5;241m=\u001B[39m \u001B[43mcombined_df\u001B[49m\u001B[43m[\u001B[49m\u001B[38;5;124;43m'\u001B[39;49m\u001B[38;5;124;43mBikeID\u001B[39;49m\u001B[38;5;124;43m'\u001B[39;49m\u001B[43m]\u001B[49m\u001B[38;5;241;43m.\u001B[39;49m\u001B[43mstr\u001B[49m\u001B[38;5;241m.\u001B[39mstrip()\n\u001B[1;32m      3\u001B[0m \u001B[38;5;66;03m# combined_df['BikeName'] = combined_df['BikeName'].str.lower()\u001B[39;00m\n\u001B[1;32m      4\u001B[0m \u001B[38;5;66;03m# combined_df['BikeID'] = combined_df['BikeID'].str.lower()\u001B[39;00m\n",
      "File \u001B[0;32m~/Cornell/INFO4310/Assignments/hw4/venv/lib/python3.9/site-packages/pandas/core/generic.py:6296\u001B[0m, in \u001B[0;36mNDFrame.__getattr__\u001B[0;34m(self, name)\u001B[0m\n\u001B[1;32m   6289\u001B[0m \u001B[38;5;28;01mif\u001B[39;00m (\n\u001B[1;32m   6290\u001B[0m     name \u001B[38;5;129;01mnot\u001B[39;00m \u001B[38;5;129;01min\u001B[39;00m \u001B[38;5;28mself\u001B[39m\u001B[38;5;241m.\u001B[39m_internal_names_set\n\u001B[1;32m   6291\u001B[0m     \u001B[38;5;129;01mand\u001B[39;00m name \u001B[38;5;129;01mnot\u001B[39;00m \u001B[38;5;129;01min\u001B[39;00m \u001B[38;5;28mself\u001B[39m\u001B[38;5;241m.\u001B[39m_metadata\n\u001B[1;32m   6292\u001B[0m     \u001B[38;5;129;01mand\u001B[39;00m name \u001B[38;5;129;01mnot\u001B[39;00m \u001B[38;5;129;01min\u001B[39;00m \u001B[38;5;28mself\u001B[39m\u001B[38;5;241m.\u001B[39m_accessors\n\u001B[1;32m   6293\u001B[0m     \u001B[38;5;129;01mand\u001B[39;00m \u001B[38;5;28mself\u001B[39m\u001B[38;5;241m.\u001B[39m_info_axis\u001B[38;5;241m.\u001B[39m_can_hold_identifiers_and_holds_name(name)\n\u001B[1;32m   6294\u001B[0m ):\n\u001B[1;32m   6295\u001B[0m     \u001B[38;5;28;01mreturn\u001B[39;00m \u001B[38;5;28mself\u001B[39m[name]\n\u001B[0;32m-> 6296\u001B[0m \u001B[38;5;28;01mreturn\u001B[39;00m \u001B[38;5;28;43mobject\u001B[39;49m\u001B[38;5;241;43m.\u001B[39;49m\u001B[38;5;21;43m__getattribute__\u001B[39;49m\u001B[43m(\u001B[49m\u001B[38;5;28;43mself\u001B[39;49m\u001B[43m,\u001B[49m\u001B[43m \u001B[49m\u001B[43mname\u001B[49m\u001B[43m)\u001B[49m\n",
      "File \u001B[0;32m~/Cornell/INFO4310/Assignments/hw4/venv/lib/python3.9/site-packages/pandas/core/accessor.py:224\u001B[0m, in \u001B[0;36mCachedAccessor.__get__\u001B[0;34m(self, obj, cls)\u001B[0m\n\u001B[1;32m    221\u001B[0m \u001B[38;5;28;01mif\u001B[39;00m obj \u001B[38;5;129;01mis\u001B[39;00m \u001B[38;5;28;01mNone\u001B[39;00m:\n\u001B[1;32m    222\u001B[0m     \u001B[38;5;66;03m# we're accessing the attribute of the class, i.e., Dataset.geo\u001B[39;00m\n\u001B[1;32m    223\u001B[0m     \u001B[38;5;28;01mreturn\u001B[39;00m \u001B[38;5;28mself\u001B[39m\u001B[38;5;241m.\u001B[39m_accessor\n\u001B[0;32m--> 224\u001B[0m accessor_obj \u001B[38;5;241m=\u001B[39m \u001B[38;5;28;43mself\u001B[39;49m\u001B[38;5;241;43m.\u001B[39;49m\u001B[43m_accessor\u001B[49m\u001B[43m(\u001B[49m\u001B[43mobj\u001B[49m\u001B[43m)\u001B[49m\n\u001B[1;32m    225\u001B[0m \u001B[38;5;66;03m# Replace the property with the accessor object. Inspired by:\u001B[39;00m\n\u001B[1;32m    226\u001B[0m \u001B[38;5;66;03m# https://www.pydanny.com/cached-property.html\u001B[39;00m\n\u001B[1;32m    227\u001B[0m \u001B[38;5;66;03m# We need to use object.__setattr__ because we overwrite __setattr__ on\u001B[39;00m\n\u001B[1;32m    228\u001B[0m \u001B[38;5;66;03m# NDFrame\u001B[39;00m\n\u001B[1;32m    229\u001B[0m \u001B[38;5;28mobject\u001B[39m\u001B[38;5;241m.\u001B[39m\u001B[38;5;21m__setattr__\u001B[39m(obj, \u001B[38;5;28mself\u001B[39m\u001B[38;5;241m.\u001B[39m_name, accessor_obj)\n",
      "File \u001B[0;32m~/Cornell/INFO4310/Assignments/hw4/venv/lib/python3.9/site-packages/pandas/core/strings/accessor.py:191\u001B[0m, in \u001B[0;36mStringMethods.__init__\u001B[0;34m(self, data)\u001B[0m\n\u001B[1;32m    188\u001B[0m \u001B[38;5;28;01mdef\u001B[39;00m \u001B[38;5;21m__init__\u001B[39m(\u001B[38;5;28mself\u001B[39m, data) \u001B[38;5;241m-\u001B[39m\u001B[38;5;241m>\u001B[39m \u001B[38;5;28;01mNone\u001B[39;00m:\n\u001B[1;32m    189\u001B[0m     \u001B[38;5;28;01mfrom\u001B[39;00m \u001B[38;5;21;01mpandas\u001B[39;00m\u001B[38;5;21;01m.\u001B[39;00m\u001B[38;5;21;01mcore\u001B[39;00m\u001B[38;5;21;01m.\u001B[39;00m\u001B[38;5;21;01marrays\u001B[39;00m\u001B[38;5;21;01m.\u001B[39;00m\u001B[38;5;21;01mstring_\u001B[39;00m \u001B[38;5;28;01mimport\u001B[39;00m StringDtype\n\u001B[0;32m--> 191\u001B[0m     \u001B[38;5;28mself\u001B[39m\u001B[38;5;241m.\u001B[39m_inferred_dtype \u001B[38;5;241m=\u001B[39m \u001B[38;5;28;43mself\u001B[39;49m\u001B[38;5;241;43m.\u001B[39;49m\u001B[43m_validate\u001B[49m\u001B[43m(\u001B[49m\u001B[43mdata\u001B[49m\u001B[43m)\u001B[49m\n\u001B[1;32m    192\u001B[0m     \u001B[38;5;28mself\u001B[39m\u001B[38;5;241m.\u001B[39m_is_categorical \u001B[38;5;241m=\u001B[39m \u001B[38;5;28misinstance\u001B[39m(data\u001B[38;5;241m.\u001B[39mdtype, CategoricalDtype)\n\u001B[1;32m    193\u001B[0m     \u001B[38;5;28mself\u001B[39m\u001B[38;5;241m.\u001B[39m_is_string \u001B[38;5;241m=\u001B[39m \u001B[38;5;28misinstance\u001B[39m(data\u001B[38;5;241m.\u001B[39mdtype, StringDtype)\n",
      "File \u001B[0;32m~/Cornell/INFO4310/Assignments/hw4/venv/lib/python3.9/site-packages/pandas/core/strings/accessor.py:245\u001B[0m, in \u001B[0;36mStringMethods._validate\u001B[0;34m(data)\u001B[0m\n\u001B[1;32m    242\u001B[0m inferred_dtype \u001B[38;5;241m=\u001B[39m lib\u001B[38;5;241m.\u001B[39minfer_dtype(values, skipna\u001B[38;5;241m=\u001B[39m\u001B[38;5;28;01mTrue\u001B[39;00m)\n\u001B[1;32m    244\u001B[0m \u001B[38;5;28;01mif\u001B[39;00m inferred_dtype \u001B[38;5;129;01mnot\u001B[39;00m \u001B[38;5;129;01min\u001B[39;00m allowed_types:\n\u001B[0;32m--> 245\u001B[0m     \u001B[38;5;28;01mraise\u001B[39;00m \u001B[38;5;167;01mAttributeError\u001B[39;00m(\u001B[38;5;124m\"\u001B[39m\u001B[38;5;124mCan only use .str accessor with string values!\u001B[39m\u001B[38;5;124m\"\u001B[39m)\n\u001B[1;32m    246\u001B[0m \u001B[38;5;28;01mreturn\u001B[39;00m inferred_dtype\n",
      "\u001B[0;31mAttributeError\u001B[0m: Can only use .str accessor with string values!"
     ]
    }
   ],
   "source": [
    "# combined_df['BikeID'] = combined_df['BikeID'].stra\n",
    "# combined_df['BikeName'] = combined_df['BikeName'].str.lower()\n",
    "# combined_df['BikeID'] = combined_df['BikeID'].str.lower()"
   ],
   "metadata": {
    "collapsed": false,
    "ExecuteTime": {
     "end_time": "2024-03-18T16:54:35.389899Z",
     "start_time": "2024-03-18T16:54:35.255361Z"
    }
   },
   "id": "5328ac99d21cfd2c",
   "execution_count": 58
  },
  {
   "cell_type": "code",
   "outputs": [
    {
     "data": {
      "text/plain": "0          0642 biketown\n1          0057 biketown\n2          0026 biketown\n3          0819 biketown\n4          0388 biketown\n               ...      \n1294442              nan\n1294443              nan\n1294444              nan\n1294445              nan\n1294446              nan\nName: BikeName, Length: 1294447, dtype: object"
     },
     "execution_count": 60,
     "metadata": {},
     "output_type": "execute_result"
    }
   ],
   "source": [
    "combined_df['BikeName'].astype(str)"
   ],
   "metadata": {
    "collapsed": false,
    "ExecuteTime": {
     "end_time": "2024-03-18T16:54:54.225229Z",
     "start_time": "2024-03-18T16:54:54.197683Z"
    }
   },
   "id": "c07c1aac2aa88a4f",
   "execution_count": 60
  },
  {
   "cell_type": "code",
   "outputs": [
    {
     "data": {
      "text/plain": "                               RouteID  PaymentPlan  StartHub  StartLatitude  \\\nBikeID  BikeName                                                               \n5986.0  0549 biketown             1180         1180       889           1093   \n        0549 pbot xm biketown        4            4         4              4   \n5987.0  0487 biketown             1250         1250       836           1130   \n        0487 mss biketown            9            9         9              9   \n5988.0  0696 biketown             1338         1338       960           1170   \n...                                ...          ...       ...            ...   \n34802.0 service controller 4         1            1         0              1   \n35477.0 0315 biketown              113          113        88            113   \n        0315 mss biketown            1            1         1              1   \n35537.0 0881 biketown               82           82        49             82   \n        0881 xc biketown             4            4         2              4   \n\n                               StartLongitude  StartDate  StartTime  EndHub  \\\nBikeID  BikeName                                                              \n5986.0  0549 biketown                    1093       1180       1180     900   \n        0549 pbot xm biketown               4          4          4       4   \n5987.0  0487 biketown                    1130       1250       1250     891   \n        0487 mss biketown                   9          9          9       8   \n5988.0  0696 biketown                    1170       1338       1338     979   \n...                                       ...        ...        ...     ...   \n34802.0 service controller 4                1          1          1       0   \n35477.0 0315 biketown                     113        113        113      76   \n        0315 mss biketown                   1          1          1       0   \n35537.0 0881 biketown                      82         82         82      46   \n        0881 xc biketown                    4          4          4       0   \n\n                               EndLatitude  EndLongitude  ...  TripType  \\\nBikeID  BikeName                                          ...             \n5986.0  0549 biketown                 1093          1093  ...         2   \n        0549 pbot xm biketown            4             4  ...         0   \n5987.0  0487 biketown                 1130          1130  ...         1   \n        0487 mss biketown                9             9  ...         0   \n5988.0  0696 biketown                 1170          1170  ...         2   \n...                                    ...           ...  ...       ...   \n34802.0 service controller 4             1             1  ...         0   \n35477.0 0315 biketown                  113           113  ...         0   \n        0315 mss biketown                1             1  ...         0   \n35537.0 0881 biketown                   82            82  ...         0   \n        0881 xc biketown                 4             4  ...         1   \n\n                               Distance_Miles  Duration  RentalAccessPath  \\\nBikeID  BikeName                                                            \n5986.0  0549 biketown                    1048      1177              1180   \n        0549 pbot xm biketown               0         4                 4   \n5987.0  0487 biketown                    1075      1239              1250   \n        0487 mss biketown                   0         9                 9   \n5988.0  0696 biketown                    1115      1337              1338   \n...                                       ...       ...               ...   \n34802.0 service controller 4                1         1                 1   \n35477.0 0315 biketown                      13       113               113   \n        0315 mss biketown                   1         1                 1   \n35537.0 0881 biketown                      32        82                82   \n        0881 xc biketown                    0         4                 4   \n\n                               MultipleRental  Start_Latitude  \\\nBikeID  BikeName                                                \n5986.0  0549 biketown                    1180              87   \n        0549 pbot xm biketown               4               0   \n5987.0  0487 biketown                    1250             120   \n        0487 mss biketown                   9               0   \n5988.0  0696 biketown                    1338             168   \n...                                       ...             ...   \n34802.0 service controller 4                1               0   \n35477.0 0315 biketown                     113               0   \n        0315 mss biketown                   1               0   \n35537.0 0881 biketown                      82               0   \n        0881 xc biketown                    4               0   \n\n                               Start_Longitude  End_Latitude  End_Longitude  \\\nBikeID  BikeName                                                              \n5986.0  0549 biketown                       87            87             87   \n        0549 pbot xm biketown                0             0              0   \n5987.0  0487 biketown                      120           120            120   \n        0487 mss biketown                    0             0              0   \n5988.0  0696 biketown                      168           168            168   \n...                                        ...           ...            ...   \n34802.0 service controller 4                 0             0              0   \n35477.0 0315 biketown                        0             0              0   \n        0315 mss biketown                    0             0              0   \n35537.0 0881 biketown                        0             0              0   \n        0881 xc biketown                     0             0              0   \n\n                               Distance_Miles_  \nBikeID  BikeName                                \n5986.0  0549 biketown                      132  \n        0549 pbot xm biketown                4  \n5987.0  0487 biketown                      175  \n        0487 mss biketown                    9  \n5988.0  0696 biketown                      223  \n...                                        ...  \n34802.0 service controller 4                 0  \n35477.0 0315 biketown                      100  \n        0315 mss biketown                    0  \n35537.0 0881 biketown                       50  \n        0881 xc biketown                     4  \n\n[2311 rows x 22 columns]",
      "text/html": "<div>\n<style scoped>\n    .dataframe tbody tr th:only-of-type {\n        vertical-align: middle;\n    }\n\n    .dataframe tbody tr th {\n        vertical-align: top;\n    }\n\n    .dataframe thead th {\n        text-align: right;\n    }\n</style>\n<table border=\"1\" class=\"dataframe\">\n  <thead>\n    <tr style=\"text-align: right;\">\n      <th></th>\n      <th></th>\n      <th>RouteID</th>\n      <th>PaymentPlan</th>\n      <th>StartHub</th>\n      <th>StartLatitude</th>\n      <th>StartLongitude</th>\n      <th>StartDate</th>\n      <th>StartTime</th>\n      <th>EndHub</th>\n      <th>EndLatitude</th>\n      <th>EndLongitude</th>\n      <th>...</th>\n      <th>TripType</th>\n      <th>Distance_Miles</th>\n      <th>Duration</th>\n      <th>RentalAccessPath</th>\n      <th>MultipleRental</th>\n      <th>Start_Latitude</th>\n      <th>Start_Longitude</th>\n      <th>End_Latitude</th>\n      <th>End_Longitude</th>\n      <th>Distance_Miles_</th>\n    </tr>\n    <tr>\n      <th>BikeID</th>\n      <th>BikeName</th>\n      <th></th>\n      <th></th>\n      <th></th>\n      <th></th>\n      <th></th>\n      <th></th>\n      <th></th>\n      <th></th>\n      <th></th>\n      <th></th>\n      <th></th>\n      <th></th>\n      <th></th>\n      <th></th>\n      <th></th>\n      <th></th>\n      <th></th>\n      <th></th>\n      <th></th>\n      <th></th>\n      <th></th>\n    </tr>\n  </thead>\n  <tbody>\n    <tr>\n      <th rowspan=\"2\" valign=\"top\">5986.0</th>\n      <th>0549 biketown</th>\n      <td>1180</td>\n      <td>1180</td>\n      <td>889</td>\n      <td>1093</td>\n      <td>1093</td>\n      <td>1180</td>\n      <td>1180</td>\n      <td>900</td>\n      <td>1093</td>\n      <td>1093</td>\n      <td>...</td>\n      <td>2</td>\n      <td>1048</td>\n      <td>1177</td>\n      <td>1180</td>\n      <td>1180</td>\n      <td>87</td>\n      <td>87</td>\n      <td>87</td>\n      <td>87</td>\n      <td>132</td>\n    </tr>\n    <tr>\n      <th>0549 pbot xm biketown</th>\n      <td>4</td>\n      <td>4</td>\n      <td>4</td>\n      <td>4</td>\n      <td>4</td>\n      <td>4</td>\n      <td>4</td>\n      <td>4</td>\n      <td>4</td>\n      <td>4</td>\n      <td>...</td>\n      <td>0</td>\n      <td>0</td>\n      <td>4</td>\n      <td>4</td>\n      <td>4</td>\n      <td>0</td>\n      <td>0</td>\n      <td>0</td>\n      <td>0</td>\n      <td>4</td>\n    </tr>\n    <tr>\n      <th rowspan=\"2\" valign=\"top\">5987.0</th>\n      <th>0487 biketown</th>\n      <td>1250</td>\n      <td>1250</td>\n      <td>836</td>\n      <td>1130</td>\n      <td>1130</td>\n      <td>1250</td>\n      <td>1250</td>\n      <td>891</td>\n      <td>1130</td>\n      <td>1130</td>\n      <td>...</td>\n      <td>1</td>\n      <td>1075</td>\n      <td>1239</td>\n      <td>1250</td>\n      <td>1250</td>\n      <td>120</td>\n      <td>120</td>\n      <td>120</td>\n      <td>120</td>\n      <td>175</td>\n    </tr>\n    <tr>\n      <th>0487 mss biketown</th>\n      <td>9</td>\n      <td>9</td>\n      <td>9</td>\n      <td>9</td>\n      <td>9</td>\n      <td>9</td>\n      <td>9</td>\n      <td>8</td>\n      <td>9</td>\n      <td>9</td>\n      <td>...</td>\n      <td>0</td>\n      <td>0</td>\n      <td>9</td>\n      <td>9</td>\n      <td>9</td>\n      <td>0</td>\n      <td>0</td>\n      <td>0</td>\n      <td>0</td>\n      <td>9</td>\n    </tr>\n    <tr>\n      <th>5988.0</th>\n      <th>0696 biketown</th>\n      <td>1338</td>\n      <td>1338</td>\n      <td>960</td>\n      <td>1170</td>\n      <td>1170</td>\n      <td>1338</td>\n      <td>1338</td>\n      <td>979</td>\n      <td>1170</td>\n      <td>1170</td>\n      <td>...</td>\n      <td>2</td>\n      <td>1115</td>\n      <td>1337</td>\n      <td>1338</td>\n      <td>1338</td>\n      <td>168</td>\n      <td>168</td>\n      <td>168</td>\n      <td>168</td>\n      <td>223</td>\n    </tr>\n    <tr>\n      <th>...</th>\n      <th>...</th>\n      <td>...</td>\n      <td>...</td>\n      <td>...</td>\n      <td>...</td>\n      <td>...</td>\n      <td>...</td>\n      <td>...</td>\n      <td>...</td>\n      <td>...</td>\n      <td>...</td>\n      <td>...</td>\n      <td>...</td>\n      <td>...</td>\n      <td>...</td>\n      <td>...</td>\n      <td>...</td>\n      <td>...</td>\n      <td>...</td>\n      <td>...</td>\n      <td>...</td>\n      <td>...</td>\n    </tr>\n    <tr>\n      <th>34802.0</th>\n      <th>service controller 4</th>\n      <td>1</td>\n      <td>1</td>\n      <td>0</td>\n      <td>1</td>\n      <td>1</td>\n      <td>1</td>\n      <td>1</td>\n      <td>0</td>\n      <td>1</td>\n      <td>1</td>\n      <td>...</td>\n      <td>0</td>\n      <td>1</td>\n      <td>1</td>\n      <td>1</td>\n      <td>1</td>\n      <td>0</td>\n      <td>0</td>\n      <td>0</td>\n      <td>0</td>\n      <td>0</td>\n    </tr>\n    <tr>\n      <th rowspan=\"2\" valign=\"top\">35477.0</th>\n      <th>0315 biketown</th>\n      <td>113</td>\n      <td>113</td>\n      <td>88</td>\n      <td>113</td>\n      <td>113</td>\n      <td>113</td>\n      <td>113</td>\n      <td>76</td>\n      <td>113</td>\n      <td>113</td>\n      <td>...</td>\n      <td>0</td>\n      <td>13</td>\n      <td>113</td>\n      <td>113</td>\n      <td>113</td>\n      <td>0</td>\n      <td>0</td>\n      <td>0</td>\n      <td>0</td>\n      <td>100</td>\n    </tr>\n    <tr>\n      <th>0315 mss biketown</th>\n      <td>1</td>\n      <td>1</td>\n      <td>1</td>\n      <td>1</td>\n      <td>1</td>\n      <td>1</td>\n      <td>1</td>\n      <td>0</td>\n      <td>1</td>\n      <td>1</td>\n      <td>...</td>\n      <td>0</td>\n      <td>1</td>\n      <td>1</td>\n      <td>1</td>\n      <td>1</td>\n      <td>0</td>\n      <td>0</td>\n      <td>0</td>\n      <td>0</td>\n      <td>0</td>\n    </tr>\n    <tr>\n      <th rowspan=\"2\" valign=\"top\">35537.0</th>\n      <th>0881 biketown</th>\n      <td>82</td>\n      <td>82</td>\n      <td>49</td>\n      <td>82</td>\n      <td>82</td>\n      <td>82</td>\n      <td>82</td>\n      <td>46</td>\n      <td>82</td>\n      <td>82</td>\n      <td>...</td>\n      <td>0</td>\n      <td>32</td>\n      <td>82</td>\n      <td>82</td>\n      <td>82</td>\n      <td>0</td>\n      <td>0</td>\n      <td>0</td>\n      <td>0</td>\n      <td>50</td>\n    </tr>\n    <tr>\n      <th>0881 xc biketown</th>\n      <td>4</td>\n      <td>4</td>\n      <td>2</td>\n      <td>4</td>\n      <td>4</td>\n      <td>4</td>\n      <td>4</td>\n      <td>0</td>\n      <td>4</td>\n      <td>4</td>\n      <td>...</td>\n      <td>1</td>\n      <td>0</td>\n      <td>4</td>\n      <td>4</td>\n      <td>4</td>\n      <td>0</td>\n      <td>0</td>\n      <td>0</td>\n      <td>0</td>\n      <td>4</td>\n    </tr>\n  </tbody>\n</table>\n<p>2311 rows × 22 columns</p>\n</div>"
     },
     "execution_count": 88,
     "metadata": {},
     "output_type": "execute_result"
    }
   ],
   "source": [
    "combined_df.groupby(['BikeID','BikeName']).count()"
   ],
   "metadata": {
    "collapsed": false,
    "ExecuteTime": {
     "end_time": "2024-03-18T17:07:33.096536Z",
     "start_time": "2024-03-18T17:07:32.564755Z"
    }
   },
   "id": "2a8e506cd9651743",
   "execution_count": 88
  },
  {
   "cell_type": "code",
   "outputs": [
    {
     "data": {
      "text/plain": "                               RouteID  PaymentPlan  StartHub  StartLatitude  \\\nBikeID  BikeName                                                               \n5986.0  0549 biketown             1180         1180       889           1093   \n        0549 pbot xm biketown        4            4         4              4   \n5987.0  0487 biketown             1250         1250       836           1130   \n        0487 mss biketown            9            9         9              9   \n5988.0  0696 biketown             1338         1338       960           1170   \n...                                ...          ...       ...            ...   \n34802.0 service controller 4         1            1         0              1   \n35477.0 0315 biketown              113          113        88            113   \n        0315 mss biketown            1            1         1              1   \n35537.0 0881 biketown               82           82        49             82   \n        0881 xc biketown             4            4         2              4   \n\n                               StartLongitude  StartDate  StartTime  EndHub  \\\nBikeID  BikeName                                                              \n5986.0  0549 biketown                    1093       1180       1180     900   \n        0549 pbot xm biketown               4          4          4       4   \n5987.0  0487 biketown                    1130       1250       1250     891   \n        0487 mss biketown                   9          9          9       8   \n5988.0  0696 biketown                    1170       1338       1338     979   \n...                                       ...        ...        ...     ...   \n34802.0 service controller 4                1          1          1       0   \n35477.0 0315 biketown                     113        113        113      76   \n        0315 mss biketown                   1          1          1       0   \n35537.0 0881 biketown                      82         82         82      46   \n        0881 xc biketown                    4          4          4       0   \n\n                               EndLatitude  EndLongitude  ...  TripType  \\\nBikeID  BikeName                                          ...             \n5986.0  0549 biketown                 1093          1093  ...         2   \n        0549 pbot xm biketown            4             4  ...         0   \n5987.0  0487 biketown                 1130          1130  ...         1   \n        0487 mss biketown                9             9  ...         0   \n5988.0  0696 biketown                 1170          1170  ...         2   \n...                                    ...           ...  ...       ...   \n34802.0 service controller 4             1             1  ...         0   \n35477.0 0315 biketown                  113           113  ...         0   \n        0315 mss biketown                1             1  ...         0   \n35537.0 0881 biketown                   82            82  ...         0   \n        0881 xc biketown                 4             4  ...         1   \n\n                               Distance_Miles  Duration  RentalAccessPath  \\\nBikeID  BikeName                                                            \n5986.0  0549 biketown                    1048      1177              1180   \n        0549 pbot xm biketown               0         4                 4   \n5987.0  0487 biketown                    1075      1239              1250   \n        0487 mss biketown                   0         9                 9   \n5988.0  0696 biketown                    1115      1337              1338   \n...                                       ...       ...               ...   \n34802.0 service controller 4                1         1                 1   \n35477.0 0315 biketown                      13       113               113   \n        0315 mss biketown                   1         1                 1   \n35537.0 0881 biketown                      32        82                82   \n        0881 xc biketown                    0         4                 4   \n\n                               MultipleRental  Start_Latitude  \\\nBikeID  BikeName                                                \n5986.0  0549 biketown                    1180              87   \n        0549 pbot xm biketown               4               0   \n5987.0  0487 biketown                    1250             120   \n        0487 mss biketown                   9               0   \n5988.0  0696 biketown                    1338             168   \n...                                       ...             ...   \n34802.0 service controller 4                1               0   \n35477.0 0315 biketown                     113               0   \n        0315 mss biketown                   1               0   \n35537.0 0881 biketown                      82               0   \n        0881 xc biketown                    4               0   \n\n                               Start_Longitude  End_Latitude  End_Longitude  \\\nBikeID  BikeName                                                              \n5986.0  0549 biketown                       87            87             87   \n        0549 pbot xm biketown                0             0              0   \n5987.0  0487 biketown                      120           120            120   \n        0487 mss biketown                    0             0              0   \n5988.0  0696 biketown                      168           168            168   \n...                                        ...           ...            ...   \n34802.0 service controller 4                 0             0              0   \n35477.0 0315 biketown                        0             0              0   \n        0315 mss biketown                    0             0              0   \n35537.0 0881 biketown                        0             0              0   \n        0881 xc biketown                     0             0              0   \n\n                               Distance_Miles_  \nBikeID  BikeName                                \n5986.0  0549 biketown                      132  \n        0549 pbot xm biketown                4  \n5987.0  0487 biketown                      175  \n        0487 mss biketown                    9  \n5988.0  0696 biketown                      223  \n...                                        ...  \n34802.0 service controller 4                 0  \n35477.0 0315 biketown                      100  \n        0315 mss biketown                    0  \n35537.0 0881 biketown                       50  \n        0881 xc biketown                     4  \n\n[2311 rows x 22 columns]",
      "text/html": "<div>\n<style scoped>\n    .dataframe tbody tr th:only-of-type {\n        vertical-align: middle;\n    }\n\n    .dataframe tbody tr th {\n        vertical-align: top;\n    }\n\n    .dataframe thead th {\n        text-align: right;\n    }\n</style>\n<table border=\"1\" class=\"dataframe\">\n  <thead>\n    <tr style=\"text-align: right;\">\n      <th></th>\n      <th></th>\n      <th>RouteID</th>\n      <th>PaymentPlan</th>\n      <th>StartHub</th>\n      <th>StartLatitude</th>\n      <th>StartLongitude</th>\n      <th>StartDate</th>\n      <th>StartTime</th>\n      <th>EndHub</th>\n      <th>EndLatitude</th>\n      <th>EndLongitude</th>\n      <th>...</th>\n      <th>TripType</th>\n      <th>Distance_Miles</th>\n      <th>Duration</th>\n      <th>RentalAccessPath</th>\n      <th>MultipleRental</th>\n      <th>Start_Latitude</th>\n      <th>Start_Longitude</th>\n      <th>End_Latitude</th>\n      <th>End_Longitude</th>\n      <th>Distance_Miles_</th>\n    </tr>\n    <tr>\n      <th>BikeID</th>\n      <th>BikeName</th>\n      <th></th>\n      <th></th>\n      <th></th>\n      <th></th>\n      <th></th>\n      <th></th>\n      <th></th>\n      <th></th>\n      <th></th>\n      <th></th>\n      <th></th>\n      <th></th>\n      <th></th>\n      <th></th>\n      <th></th>\n      <th></th>\n      <th></th>\n      <th></th>\n      <th></th>\n      <th></th>\n      <th></th>\n    </tr>\n  </thead>\n  <tbody>\n    <tr>\n      <th rowspan=\"2\" valign=\"top\">5986.0</th>\n      <th>0549 biketown</th>\n      <td>1180</td>\n      <td>1180</td>\n      <td>889</td>\n      <td>1093</td>\n      <td>1093</td>\n      <td>1180</td>\n      <td>1180</td>\n      <td>900</td>\n      <td>1093</td>\n      <td>1093</td>\n      <td>...</td>\n      <td>2</td>\n      <td>1048</td>\n      <td>1177</td>\n      <td>1180</td>\n      <td>1180</td>\n      <td>87</td>\n      <td>87</td>\n      <td>87</td>\n      <td>87</td>\n      <td>132</td>\n    </tr>\n    <tr>\n      <th>0549 pbot xm biketown</th>\n      <td>4</td>\n      <td>4</td>\n      <td>4</td>\n      <td>4</td>\n      <td>4</td>\n      <td>4</td>\n      <td>4</td>\n      <td>4</td>\n      <td>4</td>\n      <td>4</td>\n      <td>...</td>\n      <td>0</td>\n      <td>0</td>\n      <td>4</td>\n      <td>4</td>\n      <td>4</td>\n      <td>0</td>\n      <td>0</td>\n      <td>0</td>\n      <td>0</td>\n      <td>4</td>\n    </tr>\n    <tr>\n      <th rowspan=\"2\" valign=\"top\">5987.0</th>\n      <th>0487 biketown</th>\n      <td>1250</td>\n      <td>1250</td>\n      <td>836</td>\n      <td>1130</td>\n      <td>1130</td>\n      <td>1250</td>\n      <td>1250</td>\n      <td>891</td>\n      <td>1130</td>\n      <td>1130</td>\n      <td>...</td>\n      <td>1</td>\n      <td>1075</td>\n      <td>1239</td>\n      <td>1250</td>\n      <td>1250</td>\n      <td>120</td>\n      <td>120</td>\n      <td>120</td>\n      <td>120</td>\n      <td>175</td>\n    </tr>\n    <tr>\n      <th>0487 mss biketown</th>\n      <td>9</td>\n      <td>9</td>\n      <td>9</td>\n      <td>9</td>\n      <td>9</td>\n      <td>9</td>\n      <td>9</td>\n      <td>8</td>\n      <td>9</td>\n      <td>9</td>\n      <td>...</td>\n      <td>0</td>\n      <td>0</td>\n      <td>9</td>\n      <td>9</td>\n      <td>9</td>\n      <td>0</td>\n      <td>0</td>\n      <td>0</td>\n      <td>0</td>\n      <td>9</td>\n    </tr>\n    <tr>\n      <th>5988.0</th>\n      <th>0696 biketown</th>\n      <td>1338</td>\n      <td>1338</td>\n      <td>960</td>\n      <td>1170</td>\n      <td>1170</td>\n      <td>1338</td>\n      <td>1338</td>\n      <td>979</td>\n      <td>1170</td>\n      <td>1170</td>\n      <td>...</td>\n      <td>2</td>\n      <td>1115</td>\n      <td>1337</td>\n      <td>1338</td>\n      <td>1338</td>\n      <td>168</td>\n      <td>168</td>\n      <td>168</td>\n      <td>168</td>\n      <td>223</td>\n    </tr>\n    <tr>\n      <th>...</th>\n      <th>...</th>\n      <td>...</td>\n      <td>...</td>\n      <td>...</td>\n      <td>...</td>\n      <td>...</td>\n      <td>...</td>\n      <td>...</td>\n      <td>...</td>\n      <td>...</td>\n      <td>...</td>\n      <td>...</td>\n      <td>...</td>\n      <td>...</td>\n      <td>...</td>\n      <td>...</td>\n      <td>...</td>\n      <td>...</td>\n      <td>...</td>\n      <td>...</td>\n      <td>...</td>\n      <td>...</td>\n    </tr>\n    <tr>\n      <th>34802.0</th>\n      <th>service controller 4</th>\n      <td>1</td>\n      <td>1</td>\n      <td>0</td>\n      <td>1</td>\n      <td>1</td>\n      <td>1</td>\n      <td>1</td>\n      <td>0</td>\n      <td>1</td>\n      <td>1</td>\n      <td>...</td>\n      <td>0</td>\n      <td>1</td>\n      <td>1</td>\n      <td>1</td>\n      <td>1</td>\n      <td>0</td>\n      <td>0</td>\n      <td>0</td>\n      <td>0</td>\n      <td>0</td>\n    </tr>\n    <tr>\n      <th rowspan=\"2\" valign=\"top\">35477.0</th>\n      <th>0315 biketown</th>\n      <td>113</td>\n      <td>113</td>\n      <td>88</td>\n      <td>113</td>\n      <td>113</td>\n      <td>113</td>\n      <td>113</td>\n      <td>76</td>\n      <td>113</td>\n      <td>113</td>\n      <td>...</td>\n      <td>0</td>\n      <td>13</td>\n      <td>113</td>\n      <td>113</td>\n      <td>113</td>\n      <td>0</td>\n      <td>0</td>\n      <td>0</td>\n      <td>0</td>\n      <td>100</td>\n    </tr>\n    <tr>\n      <th>0315 mss biketown</th>\n      <td>1</td>\n      <td>1</td>\n      <td>1</td>\n      <td>1</td>\n      <td>1</td>\n      <td>1</td>\n      <td>1</td>\n      <td>0</td>\n      <td>1</td>\n      <td>1</td>\n      <td>...</td>\n      <td>0</td>\n      <td>1</td>\n      <td>1</td>\n      <td>1</td>\n      <td>1</td>\n      <td>0</td>\n      <td>0</td>\n      <td>0</td>\n      <td>0</td>\n      <td>0</td>\n    </tr>\n    <tr>\n      <th rowspan=\"2\" valign=\"top\">35537.0</th>\n      <th>0881 biketown</th>\n      <td>82</td>\n      <td>82</td>\n      <td>49</td>\n      <td>82</td>\n      <td>82</td>\n      <td>82</td>\n      <td>82</td>\n      <td>46</td>\n      <td>82</td>\n      <td>82</td>\n      <td>...</td>\n      <td>0</td>\n      <td>32</td>\n      <td>82</td>\n      <td>82</td>\n      <td>82</td>\n      <td>0</td>\n      <td>0</td>\n      <td>0</td>\n      <td>0</td>\n      <td>50</td>\n    </tr>\n    <tr>\n      <th>0881 xc biketown</th>\n      <td>4</td>\n      <td>4</td>\n      <td>2</td>\n      <td>4</td>\n      <td>4</td>\n      <td>4</td>\n      <td>4</td>\n      <td>0</td>\n      <td>4</td>\n      <td>4</td>\n      <td>...</td>\n      <td>1</td>\n      <td>0</td>\n      <td>4</td>\n      <td>4</td>\n      <td>4</td>\n      <td>0</td>\n      <td>0</td>\n      <td>0</td>\n      <td>0</td>\n      <td>4</td>\n    </tr>\n  </tbody>\n</table>\n<p>2311 rows × 22 columns</p>\n</div>"
     },
     "execution_count": 88,
     "metadata": {},
     "output_type": "execute_result"
    }
   ],
   "source": [
    "combined_df.groupby(['BikeID','BikeName']).count()"
   ],
   "metadata": {
    "collapsed": false
   },
   "id": "acc7d71a01dfc431",
   "execution_count": 88
  },
  {
   "cell_type": "code",
   "outputs": [
    {
     "data": {
      "text/plain": "           RouteID PaymentPlan                      StartHub  StartLatitude  \\\n3407     4742287.0  Subscriber           SE Taylor at Chavez      45.514975   \n3439     4742643.0  Subscriber                           NaN      45.512882   \n3454     4742787.0  Subscriber                           NaN      45.516457   \n8896     4802039.0  Subscriber                           NaN      45.516581   \n9604     4814953.0  Subscriber           SE Taylor at Chavez      45.514975   \n...            ...         ...                           ...            ...   \n1287150  4599411.0      Casual            SW 5th at Morrison      45.518895   \n1287693  4602409.0      Casual  SW Salmon at Waterfront Park      45.515568   \n1287761  4602701.0      Casual  SW Salmon at Waterfront Park      45.515568   \n1288697  4617651.0  Subscriber        SW River at Montgomery      45.509103   \n1293546  4684012.0      Casual            SW 3rd at Morrison      45.518039   \n\n         StartLongitude   StartDate StartTime                        EndHub  \\\n3407        -122.623157   10/5/2017     11:27                           NaN   \n3439        -122.622926   10/5/2017     11:52                           NaN   \n3454        -122.629573   10/5/2017     12:04                           NaN   \n8896        -122.621751  10/10/2017     17:30           SE Taylor at Chavez   \n9604        -122.623157  10/11/2017     20:33                           NaN   \n...                 ...         ...       ...                           ...   \n1287150     -122.677406   9/24/2017     14:27  SW Salmon at Waterfront Park   \n1287693     -122.673892   9/24/2017     19:34  SW Salmon at Waterfront Park   \n1287761     -122.673892   9/24/2017     20:31  SW Salmon at Waterfront Park   \n1288697     -122.673517   9/25/2017     23:17            SW 3rd at Morrison   \n1293546     -122.675582   9/30/2017     17:07             SE 9th at Belmont   \n\n         EndLatitude  EndLongitude  ...       BikeName Distance_Miles  \\\n3407       45.512882   -122.622926  ...  0657 biketown           0.20   \n3439       45.516457   -122.629573  ...  0657 biketown           0.53   \n3454       45.516581   -122.621751  ...  0657 biketown           0.46   \n8896       45.514975   -122.623157  ...  0657 biketown           0.13   \n9604       45.512049   -122.622839  ...  0657 biketown           0.22   \n...              ...           ...  ...            ...            ...   \n1287150    45.515568   -122.673892  ...  0657 biketown           2.38   \n1287693    45.515568   -122.673892  ...  0657 biketown           1.54   \n1287761    45.515568   -122.673892  ...  0657 biketown           6.58   \n1288697    45.518039   -122.675582  ...  0657 biketown           0.88   \n1293546    45.516333   -122.656632  ...  0657 biketown           1.52   \n\n        Duration  RentalAccessPath MultipleRental  Start_Latitude  \\\n3407     0:06:06            keypad          False             NaN   \n3439     0:08:28            keypad          False             NaN   \n3454     1:14:05            keypad          False             NaN   \n8896     0:02:34            keypad          False             NaN   \n9604     0:03:29            keypad          False             NaN   \n...          ...               ...            ...             ...   \n1287150  0:57:32            keypad          False             NaN   \n1287693  0:24:17            keypad          False             NaN   \n1287761  1:23:05            keypad          False             NaN   \n1288697  0:27:12            keypad          False             NaN   \n1293546  0:11:36            keypad          False             NaN   \n\n        Start_Longitude End_Latitude End_Longitude  Distance_Miles_  \n3407                NaN          NaN           NaN              NaN  \n3439                NaN          NaN           NaN              NaN  \n3454                NaN          NaN           NaN              NaN  \n8896                NaN          NaN           NaN              NaN  \n9604                NaN          NaN           NaN              NaN  \n...                 ...          ...           ...              ...  \n1287150             NaN          NaN           NaN              NaN  \n1287693             NaN          NaN           NaN              NaN  \n1287761             NaN          NaN           NaN              NaN  \n1288697             NaN          NaN           NaN              NaN  \n1293546             NaN          NaN           NaN              NaN  \n\n[1256 rows x 24 columns]",
      "text/html": "<div>\n<style scoped>\n    .dataframe tbody tr th:only-of-type {\n        vertical-align: middle;\n    }\n\n    .dataframe tbody tr th {\n        vertical-align: top;\n    }\n\n    .dataframe thead th {\n        text-align: right;\n    }\n</style>\n<table border=\"1\" class=\"dataframe\">\n  <thead>\n    <tr style=\"text-align: right;\">\n      <th></th>\n      <th>RouteID</th>\n      <th>PaymentPlan</th>\n      <th>StartHub</th>\n      <th>StartLatitude</th>\n      <th>StartLongitude</th>\n      <th>StartDate</th>\n      <th>StartTime</th>\n      <th>EndHub</th>\n      <th>EndLatitude</th>\n      <th>EndLongitude</th>\n      <th>...</th>\n      <th>BikeName</th>\n      <th>Distance_Miles</th>\n      <th>Duration</th>\n      <th>RentalAccessPath</th>\n      <th>MultipleRental</th>\n      <th>Start_Latitude</th>\n      <th>Start_Longitude</th>\n      <th>End_Latitude</th>\n      <th>End_Longitude</th>\n      <th>Distance_Miles_</th>\n    </tr>\n  </thead>\n  <tbody>\n    <tr>\n      <th>3407</th>\n      <td>4742287.0</td>\n      <td>Subscriber</td>\n      <td>SE Taylor at Chavez</td>\n      <td>45.514975</td>\n      <td>-122.623157</td>\n      <td>10/5/2017</td>\n      <td>11:27</td>\n      <td>NaN</td>\n      <td>45.512882</td>\n      <td>-122.622926</td>\n      <td>...</td>\n      <td>0657 biketown</td>\n      <td>0.20</td>\n      <td>0:06:06</td>\n      <td>keypad</td>\n      <td>False</td>\n      <td>NaN</td>\n      <td>NaN</td>\n      <td>NaN</td>\n      <td>NaN</td>\n      <td>NaN</td>\n    </tr>\n    <tr>\n      <th>3439</th>\n      <td>4742643.0</td>\n      <td>Subscriber</td>\n      <td>NaN</td>\n      <td>45.512882</td>\n      <td>-122.622926</td>\n      <td>10/5/2017</td>\n      <td>11:52</td>\n      <td>NaN</td>\n      <td>45.516457</td>\n      <td>-122.629573</td>\n      <td>...</td>\n      <td>0657 biketown</td>\n      <td>0.53</td>\n      <td>0:08:28</td>\n      <td>keypad</td>\n      <td>False</td>\n      <td>NaN</td>\n      <td>NaN</td>\n      <td>NaN</td>\n      <td>NaN</td>\n      <td>NaN</td>\n    </tr>\n    <tr>\n      <th>3454</th>\n      <td>4742787.0</td>\n      <td>Subscriber</td>\n      <td>NaN</td>\n      <td>45.516457</td>\n      <td>-122.629573</td>\n      <td>10/5/2017</td>\n      <td>12:04</td>\n      <td>NaN</td>\n      <td>45.516581</td>\n      <td>-122.621751</td>\n      <td>...</td>\n      <td>0657 biketown</td>\n      <td>0.46</td>\n      <td>1:14:05</td>\n      <td>keypad</td>\n      <td>False</td>\n      <td>NaN</td>\n      <td>NaN</td>\n      <td>NaN</td>\n      <td>NaN</td>\n      <td>NaN</td>\n    </tr>\n    <tr>\n      <th>8896</th>\n      <td>4802039.0</td>\n      <td>Subscriber</td>\n      <td>NaN</td>\n      <td>45.516581</td>\n      <td>-122.621751</td>\n      <td>10/10/2017</td>\n      <td>17:30</td>\n      <td>SE Taylor at Chavez</td>\n      <td>45.514975</td>\n      <td>-122.623157</td>\n      <td>...</td>\n      <td>0657 biketown</td>\n      <td>0.13</td>\n      <td>0:02:34</td>\n      <td>keypad</td>\n      <td>False</td>\n      <td>NaN</td>\n      <td>NaN</td>\n      <td>NaN</td>\n      <td>NaN</td>\n      <td>NaN</td>\n    </tr>\n    <tr>\n      <th>9604</th>\n      <td>4814953.0</td>\n      <td>Subscriber</td>\n      <td>SE Taylor at Chavez</td>\n      <td>45.514975</td>\n      <td>-122.623157</td>\n      <td>10/11/2017</td>\n      <td>20:33</td>\n      <td>NaN</td>\n      <td>45.512049</td>\n      <td>-122.622839</td>\n      <td>...</td>\n      <td>0657 biketown</td>\n      <td>0.22</td>\n      <td>0:03:29</td>\n      <td>keypad</td>\n      <td>False</td>\n      <td>NaN</td>\n      <td>NaN</td>\n      <td>NaN</td>\n      <td>NaN</td>\n      <td>NaN</td>\n    </tr>\n    <tr>\n      <th>...</th>\n      <td>...</td>\n      <td>...</td>\n      <td>...</td>\n      <td>...</td>\n      <td>...</td>\n      <td>...</td>\n      <td>...</td>\n      <td>...</td>\n      <td>...</td>\n      <td>...</td>\n      <td>...</td>\n      <td>...</td>\n      <td>...</td>\n      <td>...</td>\n      <td>...</td>\n      <td>...</td>\n      <td>...</td>\n      <td>...</td>\n      <td>...</td>\n      <td>...</td>\n      <td>...</td>\n    </tr>\n    <tr>\n      <th>1287150</th>\n      <td>4599411.0</td>\n      <td>Casual</td>\n      <td>SW 5th at Morrison</td>\n      <td>45.518895</td>\n      <td>-122.677406</td>\n      <td>9/24/2017</td>\n      <td>14:27</td>\n      <td>SW Salmon at Waterfront Park</td>\n      <td>45.515568</td>\n      <td>-122.673892</td>\n      <td>...</td>\n      <td>0657 biketown</td>\n      <td>2.38</td>\n      <td>0:57:32</td>\n      <td>keypad</td>\n      <td>False</td>\n      <td>NaN</td>\n      <td>NaN</td>\n      <td>NaN</td>\n      <td>NaN</td>\n      <td>NaN</td>\n    </tr>\n    <tr>\n      <th>1287693</th>\n      <td>4602409.0</td>\n      <td>Casual</td>\n      <td>SW Salmon at Waterfront Park</td>\n      <td>45.515568</td>\n      <td>-122.673892</td>\n      <td>9/24/2017</td>\n      <td>19:34</td>\n      <td>SW Salmon at Waterfront Park</td>\n      <td>45.515568</td>\n      <td>-122.673892</td>\n      <td>...</td>\n      <td>0657 biketown</td>\n      <td>1.54</td>\n      <td>0:24:17</td>\n      <td>keypad</td>\n      <td>False</td>\n      <td>NaN</td>\n      <td>NaN</td>\n      <td>NaN</td>\n      <td>NaN</td>\n      <td>NaN</td>\n    </tr>\n    <tr>\n      <th>1287761</th>\n      <td>4602701.0</td>\n      <td>Casual</td>\n      <td>SW Salmon at Waterfront Park</td>\n      <td>45.515568</td>\n      <td>-122.673892</td>\n      <td>9/24/2017</td>\n      <td>20:31</td>\n      <td>SW Salmon at Waterfront Park</td>\n      <td>45.515568</td>\n      <td>-122.673892</td>\n      <td>...</td>\n      <td>0657 biketown</td>\n      <td>6.58</td>\n      <td>1:23:05</td>\n      <td>keypad</td>\n      <td>False</td>\n      <td>NaN</td>\n      <td>NaN</td>\n      <td>NaN</td>\n      <td>NaN</td>\n      <td>NaN</td>\n    </tr>\n    <tr>\n      <th>1288697</th>\n      <td>4617651.0</td>\n      <td>Subscriber</td>\n      <td>SW River at Montgomery</td>\n      <td>45.509103</td>\n      <td>-122.673517</td>\n      <td>9/25/2017</td>\n      <td>23:17</td>\n      <td>SW 3rd at Morrison</td>\n      <td>45.518039</td>\n      <td>-122.675582</td>\n      <td>...</td>\n      <td>0657 biketown</td>\n      <td>0.88</td>\n      <td>0:27:12</td>\n      <td>keypad</td>\n      <td>False</td>\n      <td>NaN</td>\n      <td>NaN</td>\n      <td>NaN</td>\n      <td>NaN</td>\n      <td>NaN</td>\n    </tr>\n    <tr>\n      <th>1293546</th>\n      <td>4684012.0</td>\n      <td>Casual</td>\n      <td>SW 3rd at Morrison</td>\n      <td>45.518039</td>\n      <td>-122.675582</td>\n      <td>9/30/2017</td>\n      <td>17:07</td>\n      <td>SE 9th at Belmont</td>\n      <td>45.516333</td>\n      <td>-122.656632</td>\n      <td>...</td>\n      <td>0657 biketown</td>\n      <td>1.52</td>\n      <td>0:11:36</td>\n      <td>keypad</td>\n      <td>False</td>\n      <td>NaN</td>\n      <td>NaN</td>\n      <td>NaN</td>\n      <td>NaN</td>\n      <td>NaN</td>\n    </tr>\n  </tbody>\n</table>\n<p>1256 rows × 24 columns</p>\n</div>"
     },
     "execution_count": 97,
     "metadata": {},
     "output_type": "execute_result"
    }
   ],
   "source": [
    "combined_df[combined_df['BikeName'] == \"0657 biketown\"]"
   ],
   "metadata": {
    "collapsed": false,
    "ExecuteTime": {
     "end_time": "2024-03-18T17:11:18.696587Z",
     "start_time": "2024-03-18T17:11:18.667789Z"
    }
   },
   "id": "3b4ea9cf76145cc4",
   "execution_count": 97
  },
  {
   "cell_type": "code",
   "outputs": [
    {
     "data": {
      "text/plain": "BikeName\n0001 biketown       1\n0001 xm biketown    1\n0002 biketown       1\n0003 biketown       1\n0003 xm biketown    1\n                   ..\nxc 0424 biketown    1\nxc 0603 biketown    1\nxc 0610 biketown    1\nxc 0655 biketown    1\nxm 0683 biketown    1\nName: BikeID, Length: 2298, dtype: int64"
     },
     "execution_count": 96,
     "metadata": {},
     "output_type": "execute_result"
    }
   ],
   "source": [
    "combined_df.groupby(['BikeName'])['BikeID'].nunique()"
   ],
   "metadata": {
    "collapsed": false,
    "ExecuteTime": {
     "end_time": "2024-03-18T17:10:52.462824Z",
     "start_time": "2024-03-18T17:10:52.416730Z"
    }
   },
   "id": "d5f11dcc3280684c",
   "execution_count": 96
  },
  {
   "cell_type": "code",
   "outputs": [
    {
     "data": {
      "text/plain": "BikeID\n5986.0     2\n5987.0     2\n5988.0     3\n5989.0     2\n5990.0     1\n          ..\n30041.0    2\n33605.0    1\n34802.0    1\n35477.0    2\n35537.0    2\nName: BikeName, Length: 1044, dtype: int64"
     },
     "execution_count": 95,
     "metadata": {},
     "output_type": "execute_result"
    }
   ],
   "source": [
    "combined_df.groupby(['BikeID'])['BikeName'].nunique()"
   ],
   "metadata": {
    "collapsed": false,
    "ExecuteTime": {
     "end_time": "2024-03-18T17:10:36.327974Z",
     "start_time": "2024-03-18T17:10:36.171795Z"
    }
   },
   "id": "5ec6dc82405d340e",
   "execution_count": 95
  },
  {
   "cell_type": "code",
   "outputs": [
    {
     "data": {
      "text/plain": "Empty DataFrame\nColumns: [RouteID, PaymentPlan, StartHub, StartLatitude, StartLongitude, StartDate, StartTime, EndHub, EndLatitude, EndLongitude, EndDate, EndTime, TripType, BikeID, BikeName, Distance_Miles, Duration, RentalAccessPath, MultipleRental, Start_Latitude, Start_Longitude, End_Latitude, End_Longitude, Distance_Miles_]\nIndex: []\n\n[0 rows x 24 columns]",
      "text/html": "<div>\n<style scoped>\n    .dataframe tbody tr th:only-of-type {\n        vertical-align: middle;\n    }\n\n    .dataframe tbody tr th {\n        vertical-align: top;\n    }\n\n    .dataframe thead th {\n        text-align: right;\n    }\n</style>\n<table border=\"1\" class=\"dataframe\">\n  <thead>\n    <tr style=\"text-align: right;\">\n      <th></th>\n      <th>RouteID</th>\n      <th>PaymentPlan</th>\n      <th>StartHub</th>\n      <th>StartLatitude</th>\n      <th>StartLongitude</th>\n      <th>StartDate</th>\n      <th>StartTime</th>\n      <th>EndHub</th>\n      <th>EndLatitude</th>\n      <th>EndLongitude</th>\n      <th>...</th>\n      <th>BikeName</th>\n      <th>Distance_Miles</th>\n      <th>Duration</th>\n      <th>RentalAccessPath</th>\n      <th>MultipleRental</th>\n      <th>Start_Latitude</th>\n      <th>Start_Longitude</th>\n      <th>End_Latitude</th>\n      <th>End_Longitude</th>\n      <th>Distance_Miles_</th>\n    </tr>\n  </thead>\n  <tbody>\n  </tbody>\n</table>\n<p>0 rows × 24 columns</p>\n</div>"
     },
     "execution_count": 68,
     "metadata": {},
     "output_type": "execute_result"
    }
   ],
   "source": [
    "combined_df[combined_df['BikeName'].astype(str) == \"0006 biketown\"]"
   ],
   "metadata": {
    "collapsed": false,
    "ExecuteTime": {
     "end_time": "2024-03-18T16:57:51.822491Z",
     "start_time": "2024-03-18T16:57:51.813820Z"
    }
   },
   "id": "5698feeb43471940",
   "execution_count": 68
  },
  {
   "cell_type": "code",
   "outputs": [
    {
     "data": {
      "text/plain": "0          False\n1          False\n2          False\n3          False\n4          False\n           ...  \n1294442    False\n1294443    False\n1294444    False\n1294445    False\n1294446    False\nName: BikeName, Length: 1294447, dtype: bool"
     },
     "execution_count": 84,
     "metadata": {},
     "output_type": "execute_result"
    }
   ],
   "source": [
    "combined_df['BikeName'].str.lower().str.strip() == \"0006 biketown\""
   ],
   "metadata": {
    "collapsed": false,
    "ExecuteTime": {
     "end_time": "2024-03-18T17:04:24.177966Z",
     "start_time": "2024-03-18T17:04:23.901061Z"
    }
   },
   "id": "6b8cee7ffb44b014",
   "execution_count": 84
  },
  {
   "cell_type": "code",
   "outputs": [],
   "source": [],
   "metadata": {
    "collapsed": false
   },
   "id": "3aae5e4fe4d68cd9"
  }
 ],
 "metadata": {
  "kernelspec": {
   "display_name": "Python 3",
   "language": "python",
   "name": "python3"
  },
  "language_info": {
   "codemirror_mode": {
    "name": "ipython",
    "version": 2
   },
   "file_extension": ".py",
   "mimetype": "text/x-python",
   "name": "python",
   "nbconvert_exporter": "python",
   "pygments_lexer": "ipython2",
   "version": "2.7.6"
  }
 },
 "nbformat": 4,
 "nbformat_minor": 5
}
