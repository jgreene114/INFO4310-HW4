{
 "cells": [
  {
   "cell_type": "code",
   "execution_count": 1,
   "id": "initial_id",
   "metadata": {
    "collapsed": true,
    "ExecuteTime": {
     "end_time": "2024-03-17T18:37:34.949719Z",
     "start_time": "2024-03-17T18:37:34.941609Z"
    }
   },
   "outputs": [],
   "source": [
    "import json"
   ]
  },
  {
   "cell_type": "code",
   "outputs": [],
   "source": [
    "with open(\"data/pdx-routes-data-for-e-bike-in-all-time.geojson\", \"r\") as f:\n",
    "    data = json.load(f)"
   ],
   "metadata": {
    "collapsed": false,
    "ExecuteTime": {
     "end_time": "2024-03-17T18:38:18.777148Z",
     "start_time": "2024-03-17T18:38:18.556902Z"
    }
   },
   "id": "a4aa90b7cbec1846",
   "execution_count": 2
  },
  {
   "cell_type": "code",
   "outputs": [
    {
     "data": {
      "text/plain": "{'type': 'Feature',\n 'properties': {'name': 'Willamette Greenway Trail',\n  'geometryId': '9a24b64a7e1b2f2bb0b7b157d4ed99be',\n  'percentage': 3.9,\n  'displayCount': '60,600',\n  'count': 60600},\n 'geometry': {'type': 'LineString',\n  'coordinates': [[-122.67323060000001, 45.5140509],\n   [-122.67326460000001, 45.513958800000005]]}}"
     },
     "execution_count": 10,
     "metadata": {},
     "output_type": "execute_result"
    }
   ],
   "source": [
    "data['features'][0]"
   ],
   "metadata": {
    "collapsed": false,
    "ExecuteTime": {
     "end_time": "2024-03-17T18:39:07.238438Z",
     "start_time": "2024-03-17T18:39:07.231786Z"
    }
   },
   "id": "487e307defd9aef3",
   "execution_count": 10
  },
  {
   "cell_type": "code",
   "outputs": [],
   "source": [],
   "metadata": {
    "collapsed": false
   },
   "id": "656cbd52059c1a3c"
  }
 ],
 "metadata": {
  "kernelspec": {
   "display_name": "Python 3",
   "language": "python",
   "name": "python3"
  },
  "language_info": {
   "codemirror_mode": {
    "name": "ipython",
    "version": 2
   },
   "file_extension": ".py",
   "mimetype": "text/x-python",
   "name": "python",
   "nbconvert_exporter": "python",
   "pygments_lexer": "ipython2",
   "version": "2.7.6"
  }
 },
 "nbformat": 4,
 "nbformat_minor": 5
}
